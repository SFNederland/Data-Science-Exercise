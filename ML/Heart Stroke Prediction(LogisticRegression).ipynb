{
 "cells": [
  {
   "cell_type": "markdown",
   "id": "f633a0ce-d100-4276-936f-d798a04d35e2",
   "metadata": {},
   "source": [
    "### Data vocabulary\n",
    "\n",
    "##### 1. (age): age in years \n",
    "##### 2. (sex): sex (1 = male; 0 = female) \n",
    "##### 3. (cp): cp: chest pain type | Value 0: typical angina | Value 1: atypical angina | Value 2: non-anginal pain | Value 3: asymptomatic \n",
    "##### 4. (trestbps): resting blood pressure (in mm Hg on admission to the hospital) \n",
    "##### 5. (chol): serum cholestoral in mg/dl \n",
    "##### 6. (fbs): (fasting blood sugar > 120 mg/dl) (1 = true; 0 = false) \n",
    "##### 7. (restecg): resting electrocardiographic results | Value 0: normal | Value 1: having ST-T wave abnormality (T wave inversions and/or ST elevation or depression of > 0.05 mV) | Value 2: showing probable or definite left ventricular hypertrophy by Estes' criteria \n",
    "##### 8. (thalach): maximum heart rate achieved \n",
    "##### 9. (exang): exercise induced angina (1 = yes; 0 = no) \n",
    "##### 10.(oldpeak): ST depression induced by exercise relative to rest \n",
    "##### 11.(slope): the slope of the peak exercise ST segment | Value 1: upsloping | Value 2: flat | Value 3: downsloping \n",
    "##### 12.(ca): number of major vessels (0-3) colored by flourosopy \n",
    "##### 13.(thal): 3 = normal; 6 = fixed defect; 7 = reversable defect \n",
    "##### 14.(num) (the predicted attribute): Value 0: < 50% diameter narrowing | Value 1: > 50% diameter narrowing "
   ]
  },
  {
   "cell_type": "markdown",
   "id": "857384a7-c6fe-4cc9-a35b-7a0801d1b22b",
   "metadata": {},
   "source": [
    "## Libraries"
   ]
  },
  {
   "cell_type": "code",
   "execution_count": 1,
   "id": "ff439c7d-b3e8-487c-9353-997b9dcfcbbd",
   "metadata": {},
   "outputs": [],
   "source": [
    "import numpy as np\n",
    "import pandas as pd\n",
    "import matplotlib.pyplot as plt\n",
    "import seaborn as sns\n",
    "import plotly.express as px\n",
    "from sklearn.model_selection import train_test_split,cross_validate, cross_val_score,GridSearchCV\n",
    "from sklearn.svm import SVC\n",
    "from sklearn.preprocessing import StandardScaler, MinMaxScaler, RobustScaler,PolynomialFeatures\n",
    "from sklearn.linear_model import LogisticRegression,LogisticRegressionCV\n",
    "from sklearn.metrics import accuracy_score,mean_absolute_error,mean_squared_error, r2_score,confusion_matrix,classification_report,plot_confusion_matrix,plot_roc_curve,plot_precision_recall_curve,roc_curve,roc_auc_score\n",
    "\n",
    "plt.rcParams[\"figure.figsize\"] = (10,6)\n",
    "pd.set_option(\"max_columns\",100)\n",
    "pd.set_option(\"max_rows\",900)\n",
    "pd.set_option(\"max_colwidth\",200)\n",
    "import warnings\n",
    "warnings.filterwarnings(\"ignore\")"
   ]
  },
  {
   "cell_type": "markdown",
   "id": "5e73d132-97c6-4124-ad0e-b4de3d73cdfa",
   "metadata": {},
   "source": [
    "## Ingest the data to notebook"
   ]
  },
  {
   "cell_type": "code",
   "execution_count": 2,
   "id": "12882210-adce-4670-a8bc-9b1758093dbd",
   "metadata": {},
   "outputs": [
    {
     "data": {
      "text/html": [
       "<div>\n",
       "<style scoped>\n",
       "    .dataframe tbody tr th:only-of-type {\n",
       "        vertical-align: middle;\n",
       "    }\n",
       "\n",
       "    .dataframe tbody tr th {\n",
       "        vertical-align: top;\n",
       "    }\n",
       "\n",
       "    .dataframe thead th {\n",
       "        text-align: right;\n",
       "    }\n",
       "</style>\n",
       "<table border=\"1\" class=\"dataframe\">\n",
       "  <thead>\n",
       "    <tr style=\"text-align: right;\">\n",
       "      <th></th>\n",
       "      <th>age</th>\n",
       "      <th>sex</th>\n",
       "      <th>cp</th>\n",
       "      <th>trestbps</th>\n",
       "      <th>chol</th>\n",
       "      <th>fbs</th>\n",
       "      <th>restecg</th>\n",
       "      <th>thalach</th>\n",
       "      <th>exang</th>\n",
       "      <th>oldpeak</th>\n",
       "      <th>slope</th>\n",
       "      <th>ca</th>\n",
       "      <th>thal</th>\n",
       "      <th>target</th>\n",
       "    </tr>\n",
       "  </thead>\n",
       "  <tbody>\n",
       "    <tr>\n",
       "      <th>232</th>\n",
       "      <td>55</td>\n",
       "      <td>1</td>\n",
       "      <td>0</td>\n",
       "      <td>160</td>\n",
       "      <td>289</td>\n",
       "      <td>0</td>\n",
       "      <td>0</td>\n",
       "      <td>145</td>\n",
       "      <td>1</td>\n",
       "      <td>0.8</td>\n",
       "      <td>1</td>\n",
       "      <td>1</td>\n",
       "      <td>3</td>\n",
       "      <td>0</td>\n",
       "    </tr>\n",
       "    <tr>\n",
       "      <th>91</th>\n",
       "      <td>57</td>\n",
       "      <td>1</td>\n",
       "      <td>0</td>\n",
       "      <td>132</td>\n",
       "      <td>207</td>\n",
       "      <td>0</td>\n",
       "      <td>1</td>\n",
       "      <td>168</td>\n",
       "      <td>1</td>\n",
       "      <td>0.0</td>\n",
       "      <td>2</td>\n",
       "      <td>0</td>\n",
       "      <td>3</td>\n",
       "      <td>1</td>\n",
       "    </tr>\n",
       "    <tr>\n",
       "      <th>279</th>\n",
       "      <td>61</td>\n",
       "      <td>1</td>\n",
       "      <td>0</td>\n",
       "      <td>138</td>\n",
       "      <td>166</td>\n",
       "      <td>0</td>\n",
       "      <td>0</td>\n",
       "      <td>125</td>\n",
       "      <td>1</td>\n",
       "      <td>3.6</td>\n",
       "      <td>1</td>\n",
       "      <td>1</td>\n",
       "      <td>2</td>\n",
       "      <td>0</td>\n",
       "    </tr>\n",
       "    <tr>\n",
       "      <th>245</th>\n",
       "      <td>48</td>\n",
       "      <td>1</td>\n",
       "      <td>0</td>\n",
       "      <td>124</td>\n",
       "      <td>274</td>\n",
       "      <td>0</td>\n",
       "      <td>0</td>\n",
       "      <td>166</td>\n",
       "      <td>0</td>\n",
       "      <td>0.5</td>\n",
       "      <td>1</td>\n",
       "      <td>0</td>\n",
       "      <td>3</td>\n",
       "      <td>0</td>\n",
       "    </tr>\n",
       "    <tr>\n",
       "      <th>262</th>\n",
       "      <td>53</td>\n",
       "      <td>1</td>\n",
       "      <td>0</td>\n",
       "      <td>123</td>\n",
       "      <td>282</td>\n",
       "      <td>0</td>\n",
       "      <td>1</td>\n",
       "      <td>95</td>\n",
       "      <td>1</td>\n",
       "      <td>2.0</td>\n",
       "      <td>1</td>\n",
       "      <td>2</td>\n",
       "      <td>3</td>\n",
       "      <td>0</td>\n",
       "    </tr>\n",
       "    <tr>\n",
       "      <th>123</th>\n",
       "      <td>54</td>\n",
       "      <td>0</td>\n",
       "      <td>2</td>\n",
       "      <td>108</td>\n",
       "      <td>267</td>\n",
       "      <td>0</td>\n",
       "      <td>0</td>\n",
       "      <td>167</td>\n",
       "      <td>0</td>\n",
       "      <td>0.0</td>\n",
       "      <td>2</td>\n",
       "      <td>0</td>\n",
       "      <td>2</td>\n",
       "      <td>1</td>\n",
       "    </tr>\n",
       "    <tr>\n",
       "      <th>204</th>\n",
       "      <td>62</td>\n",
       "      <td>0</td>\n",
       "      <td>0</td>\n",
       "      <td>160</td>\n",
       "      <td>164</td>\n",
       "      <td>0</td>\n",
       "      <td>0</td>\n",
       "      <td>145</td>\n",
       "      <td>0</td>\n",
       "      <td>6.2</td>\n",
       "      <td>0</td>\n",
       "      <td>3</td>\n",
       "      <td>3</td>\n",
       "      <td>0</td>\n",
       "    </tr>\n",
       "    <tr>\n",
       "      <th>152</th>\n",
       "      <td>64</td>\n",
       "      <td>1</td>\n",
       "      <td>3</td>\n",
       "      <td>170</td>\n",
       "      <td>227</td>\n",
       "      <td>0</td>\n",
       "      <td>0</td>\n",
       "      <td>155</td>\n",
       "      <td>0</td>\n",
       "      <td>0.6</td>\n",
       "      <td>1</td>\n",
       "      <td>0</td>\n",
       "      <td>3</td>\n",
       "      <td>1</td>\n",
       "    </tr>\n",
       "    <tr>\n",
       "      <th>58</th>\n",
       "      <td>34</td>\n",
       "      <td>1</td>\n",
       "      <td>3</td>\n",
       "      <td>118</td>\n",
       "      <td>182</td>\n",
       "      <td>0</td>\n",
       "      <td>0</td>\n",
       "      <td>174</td>\n",
       "      <td>0</td>\n",
       "      <td>0.0</td>\n",
       "      <td>2</td>\n",
       "      <td>0</td>\n",
       "      <td>2</td>\n",
       "      <td>1</td>\n",
       "    </tr>\n",
       "    <tr>\n",
       "      <th>9</th>\n",
       "      <td>57</td>\n",
       "      <td>1</td>\n",
       "      <td>2</td>\n",
       "      <td>150</td>\n",
       "      <td>168</td>\n",
       "      <td>0</td>\n",
       "      <td>1</td>\n",
       "      <td>174</td>\n",
       "      <td>0</td>\n",
       "      <td>1.6</td>\n",
       "      <td>2</td>\n",
       "      <td>0</td>\n",
       "      <td>2</td>\n",
       "      <td>1</td>\n",
       "    </tr>\n",
       "  </tbody>\n",
       "</table>\n",
       "</div>"
      ],
      "text/plain": [
       "     age  sex  cp  trestbps  chol  fbs  restecg  thalach  exang  oldpeak  \\\n",
       "232   55    1   0       160   289    0        0      145      1      0.8   \n",
       "91    57    1   0       132   207    0        1      168      1      0.0   \n",
       "279   61    1   0       138   166    0        0      125      1      3.6   \n",
       "245   48    1   0       124   274    0        0      166      0      0.5   \n",
       "262   53    1   0       123   282    0        1       95      1      2.0   \n",
       "123   54    0   2       108   267    0        0      167      0      0.0   \n",
       "204   62    0   0       160   164    0        0      145      0      6.2   \n",
       "152   64    1   3       170   227    0        0      155      0      0.6   \n",
       "58    34    1   3       118   182    0        0      174      0      0.0   \n",
       "9     57    1   2       150   168    0        1      174      0      1.6   \n",
       "\n",
       "     slope  ca  thal  target  \n",
       "232      1   1     3       0  \n",
       "91       2   0     3       1  \n",
       "279      1   1     2       0  \n",
       "245      1   0     3       0  \n",
       "262      1   2     3       0  \n",
       "123      2   0     2       1  \n",
       "204      0   3     3       0  \n",
       "152      1   0     3       1  \n",
       "58       2   0     2       1  \n",
       "9        2   0     2       1  "
      ]
     },
     "execution_count": 2,
     "metadata": {},
     "output_type": "execute_result"
    }
   ],
   "source": [
    "df=pd.read_csv(\"heart.csv\")\n",
    "df.sample(10)"
   ]
  },
  {
   "cell_type": "code",
   "execution_count": 3,
   "id": "405df12e-2d67-442c-bcd8-cc5033424289",
   "metadata": {},
   "outputs": [
    {
     "name": "stdout",
     "output_type": "stream",
     "text": [
      "<class 'pandas.core.frame.DataFrame'>\n",
      "RangeIndex: 303 entries, 0 to 302\n",
      "Data columns (total 14 columns):\n",
      " #   Column    Non-Null Count  Dtype  \n",
      "---  ------    --------------  -----  \n",
      " 0   age       303 non-null    int64  \n",
      " 1   sex       303 non-null    int64  \n",
      " 2   cp        303 non-null    int64  \n",
      " 3   trestbps  303 non-null    int64  \n",
      " 4   chol      303 non-null    int64  \n",
      " 5   fbs       303 non-null    int64  \n",
      " 6   restecg   303 non-null    int64  \n",
      " 7   thalach   303 non-null    int64  \n",
      " 8   exang     303 non-null    int64  \n",
      " 9   oldpeak   303 non-null    float64\n",
      " 10  slope     303 non-null    int64  \n",
      " 11  ca        303 non-null    int64  \n",
      " 12  thal      303 non-null    int64  \n",
      " 13  target    303 non-null    int64  \n",
      "dtypes: float64(1), int64(13)\n",
      "memory usage: 33.3 KB\n"
     ]
    }
   ],
   "source": [
    "df.info()"
   ]
  },
  {
   "cell_type": "code",
   "execution_count": 4,
   "id": "87391de1-af24-4fc5-a012-abb5f08060ff",
   "metadata": {},
   "outputs": [
    {
     "data": {
      "image/png": "[encoded data removed]",
      "text/plain": [
       "<Figure size 720x432 with 1 Axes>"
      ]
     },
     "metadata": {
      "needs_background": "light"
     },
     "output_type": "display_data"
    }
   ],
   "source": [
    "df.corr()[\"target\"].drop(index=\"target\").sort_values().plot(kind =\"barh\");"
   ]
  },
  {
   "cell_type": "code",
   "execution_count": 5,
   "id": "9260fc05-fcd6-47b7-bcba-6f342edaecd5",
   "metadata": {},
   "outputs": [
    {
     "data": {
      "text/plain": [
       "age         0\n",
       "sex         0\n",
       "cp          0\n",
       "trestbps    0\n",
       "chol        0\n",
       "fbs         0\n",
       "restecg     0\n",
       "thalach     0\n",
       "exang       0\n",
       "oldpeak     0\n",
       "slope       0\n",
       "ca          0\n",
       "thal        0\n",
       "target      0\n",
       "dtype: int64"
      ]
     },
     "execution_count": 5,
     "metadata": {},
     "output_type": "execute_result"
    }
   ],
   "source": [
    "df.isnull().sum()"
   ]
  },
  {
   "cell_type": "code",
   "execution_count": 6,
   "id": "c201e728-5392-459e-bd5c-1173af962035",
   "metadata": {},
   "outputs": [
    {
     "data": {
      "text/plain": [
       "1"
      ]
     },
     "execution_count": 6,
     "metadata": {},
     "output_type": "execute_result"
    }
   ],
   "source": [
    "df.duplicated().sum()"
   ]
  },
  {
   "cell_type": "code",
   "execution_count": 7,
   "id": "15cc520e-63cb-4d6e-a79d-34940a6b46da",
   "metadata": {},
   "outputs": [],
   "source": [
    "df.drop_duplicates(inplace=True)"
   ]
  },
  {
   "cell_type": "markdown",
   "id": "30e96bf7-6dbf-499c-accc-0d319915ce59",
   "metadata": {},
   "source": [
    "### Data Preprocessing"
   ]
  },
  {
   "cell_type": "code",
   "execution_count": 8,
   "id": "fd9c7f42-eaa4-4538-83cc-df60c3083d6f",
   "metadata": {},
   "outputs": [],
   "source": [
    "X=df.drop(columns=\"target\")\n",
    "y=df[\"target\"]\n",
    "\n",
    "X_train, X_test, y_train, y_test = train_test_split(X, y, test_size=0.25, random_state=42)\n",
    "scaler = MinMaxScaler()\n",
    "X_train_scale = scaler.fit_transform(X_train)\n",
    "X_test_scale = scaler.transform(X_test)"
   ]
  },
  {
   "cell_type": "markdown",
   "id": "42784633-6616-44e5-90a1-12a8a62e8e08",
   "metadata": {},
   "source": [
    "### Implement Logistic Regression and Evaluate"
   ]
  },
  {
   "cell_type": "code",
   "execution_count": 9,
   "id": "97b16da9-4e1e-48a3-8d57-4a47f8670847",
   "metadata": {},
   "outputs": [
    {
     "name": "stdout",
     "output_type": "stream",
     "text": [
      "[[28  7]\n",
      " [ 6 35]]\n",
      "              precision    recall  f1-score   support\n",
      "\n",
      "           0       0.82      0.80      0.81        35\n",
      "           1       0.83      0.85      0.84        41\n",
      "\n",
      "    accuracy                           0.83        76\n",
      "   macro avg       0.83      0.83      0.83        76\n",
      "weighted avg       0.83      0.83      0.83        76\n",
      "\n"
     ]
    },
    {
     "data": {
      "image/png": "[encoded data removed]",
      "text/plain": [
       "<Figure size 720x432 with 2 Axes>"
      ]
     },
     "metadata": {
      "needs_background": "light"
     },
     "output_type": "display_data"
    }
   ],
   "source": [
    "log_mod = LogisticRegression().fit(X_train_scale,y_train)\n",
    "y_pred_scale = log_mod.predict(X_test_scale)\n",
    "y_pred_proba = log_mod.predict_proba(X_test_scale)\n",
    "\n",
    "print(confusion_matrix(y_test,y_pred_scale))\n",
    "plot_confusion_matrix(log_mod,X_test_scale,y_test)\n",
    "print(classification_report(y_test,y_pred_scale));"
   ]
  },
  {
   "cell_type": "code",
   "execution_count": 10,
   "id": "c0c9a3ba-6faa-4145-aa66-89d5dbe26d29",
   "metadata": {},
   "outputs": [
    {
     "data": {
      "text/plain": [
       "fit_time                   0.003411\n",
       "score_time                 0.002069\n",
       "test_accuracy              0.827273\n",
       "test_precision_weighted    0.835590\n",
       "test_recall_weighted       0.827273\n",
       "test_f1_weighted           0.825038\n",
       "dtype: float64"
      ]
     },
     "execution_count": 10,
     "metadata": {},
     "output_type": "execute_result"
    }
   ],
   "source": [
    "scores = cross_validate(LogisticRegression(), X_train_scale, y_train, scoring = ['accuracy', 'precision_weighted','recall_weighted',\n",
    "                                                                   'f1_weighted'], cv = 10)\n",
    "pd.DataFrame(scores).mean()"
   ]
  },
  {
   "cell_type": "code",
   "execution_count": 11,
   "id": "7154adca-5ca9-4dc8-b6ac-bef76eee6a7f",
   "metadata": {},
   "outputs": [
    {
     "data": {
      "text/plain": [
       "GridSearchCV(estimator=LogisticRegression(max_iter=5000, multi_class='ovr'),\n",
       "             param_grid={'C': array([1.00000000e+00, 3.35981829e+00, 1.12883789e+01, 3.79269019e+01,\n",
       "       1.27427499e+02, 4.28133240e+02, 1.43844989e+03, 4.83293024e+03,\n",
       "       1.62377674e+04, 5.45559478e+04, 1.83298071e+05, 6.15848211e+05,\n",
       "       2.06913808e+06, 6.95192796e+06, 2.33572147e+07, 7.84759970e+07,\n",
       "       2.63665090e+08, 8.85866790e+08, 2.97635144e+09, 1.00000000e+10]),\n",
       "                         'l1_ratio': array([0.        , 0.05263158, 0.10526316, 0.15789474, 0.21052632,\n",
       "       0.26315789, 0.31578947, 0.36842105, 0.42105263, 0.47368421,\n",
       "       0.52631579, 0.57894737, 0.63157895, 0.68421053, 0.73684211,\n",
       "       0.78947368, 0.84210526, 0.89473684, 0.94736842, 1.        ]),\n",
       "                         'penalty': ['l1', 'l2']})"
      ]
     },
     "execution_count": 11,
     "metadata": {},
     "output_type": "execute_result"
    }
   ],
   "source": [
    "log_modelCV = LogisticRegression(multi_class=\"ovr\",max_iter=5000)\n",
    "penalty = [\"l1\", \"l2\"]\n",
    "l1_ratio = np.linspace(0, 1, 20) #linspace\n",
    "C = np.logspace(0, 10, 20) #logaritmik , C değerlerinin logaritmik aralıktan seçilmesi tavsiye edilir.\n",
    "\n",
    "param_grid = {\"penalty\" : penalty,\n",
    "             \"l1_ratio\" : l1_ratio,\n",
    "             \"C\" : C}\n",
    "grid_model = GridSearchCV(log_modelCV, param_grid = param_grid)\n",
    "grid_model.fit(X_train_scale,y_train)"
   ]
  },
  {
   "cell_type": "code",
   "execution_count": 12,
   "id": "c274f41e-3cc5-4487-bf45-dd7212469011",
   "metadata": {},
   "outputs": [
    {
     "data": {
      "text/plain": [
       "{'C': 37.926901907322495, 'l1_ratio': 0.0, 'penalty': 'l2'}"
      ]
     },
     "execution_count": 12,
     "metadata": {},
     "output_type": "execute_result"
    }
   ],
   "source": [
    "grid_model.best_params_"
   ]
  },
  {
   "cell_type": "code",
   "execution_count": 13,
   "id": "f5a794bd-6ead-4822-8275-b84e8d14bc3c",
   "metadata": {},
   "outputs": [],
   "source": [
    "grid_model_cv = LogisticRegression(penalty=\"l2\",C=37.926901907322495, max_iter=5000,\n",
    "                   multi_class='ovr',l1_ratio = 0) "
   ]
  },
  {
   "cell_type": "code",
   "execution_count": 14,
   "id": "23b097f0-1df4-44a2-8988-b0f68859a133",
   "metadata": {},
   "outputs": [
    {
     "name": "stdout",
     "output_type": "stream",
     "text": [
      "[[29  6]\n",
      " [ 6 35]]\n",
      "              precision    recall  f1-score   support\n",
      "\n",
      "           0       0.83      0.83      0.83        35\n",
      "           1       0.85      0.85      0.85        41\n",
      "\n",
      "    accuracy                           0.84        76\n",
      "   macro avg       0.84      0.84      0.84        76\n",
      "weighted avg       0.84      0.84      0.84        76\n",
      "\n"
     ]
    },
    {
     "data": {
      "image/png": "[encoded data removed]",
      "text/plain": [
       "<Figure size 720x432 with 2 Axes>"
      ]
     },
     "metadata": {
      "needs_background": "light"
     },
     "output_type": "display_data"
    }
   ],
   "source": [
    "grid_model_cv.fit(X_train_scale,y_train)\n",
    "y_pred = grid_model_cv.predict(X_test_scale)\n",
    "print(confusion_matrix(y_test, y_pred))\n",
    "print(classification_report(y_test, y_pred))\n",
    "plot_confusion_matrix(grid_model_cv, X_test_scale, y_test);"
   ]
  },
  {
   "cell_type": "code",
   "execution_count": 15,
   "id": "df2315b7-3281-45bb-87f9-15cff87c353a",
   "metadata": {},
   "outputs": [
    {
     "data": {
      "text/plain": [
       "0.6335842054598753"
      ]
     },
     "execution_count": 15,
     "metadata": {},
     "output_type": "execute_result"
    }
   ],
   "source": [
    "roc_auc_score(y_test,y_pred_proba[:,1])\n",
    "fp,tp,treshold =  roc_curve(y_test,y_pred_proba[:,1])\n",
    "optimum_treshold = treshold[np.argmax(tp-fp)]\n",
    "optimum_treshold"
   ]
  },
  {
   "cell_type": "code",
   "execution_count": 16,
   "id": "22b5f309-b4d3-4eac-8d67-a4f3de4b9152",
   "metadata": {},
   "outputs": [
    {
     "name": "stdout",
     "output_type": "stream",
     "text": [
      "              precision    recall  f1-score   support\n",
      "\n",
      "           0       0.77      0.97      0.86        35\n",
      "           1       0.97      0.76      0.85        41\n",
      "\n",
      "    accuracy                           0.86        76\n",
      "   macro avg       0.87      0.86      0.86        76\n",
      "weighted avg       0.88      0.86      0.85        76\n",
      "\n"
     ]
    }
   ],
   "source": [
    "y_pred_opt = [1 if i > optimum_treshold else 0 for i in y_pred_proba[:,1]]\n",
    "print(classification_report(y_test,y_pred_opt))"
   ]
  },
  {
   "cell_type": "markdown",
   "id": "5f16d15e-4864-4060-9c2f-198e2a164b67",
   "metadata": {},
   "source": [
    "### Chose best model and make a random prediction"
   ]
  },
  {
   "cell_type": "code",
   "execution_count": 17,
   "id": "be9027b2-98c0-43a3-8735-44fe710345a5",
   "metadata": {},
   "outputs": [],
   "source": [
    "from sklearn.pipeline import Pipeline\n",
    "from sklearn.model_selection import GridSearchCV\n",
    "from sklearn.neighbors import KNeighborsClassifier"
   ]
  },
  {
   "cell_type": "code",
   "execution_count": 18,
   "id": "84bf7068-67a3-414d-ab44-3519b49ac38b",
   "metadata": {},
   "outputs": [
    {
     "data": {
      "text/plain": [
       "GridSearchCV(cv=10,\n",
       "             estimator=Pipeline(steps=[('scaler', StandardScaler()),\n",
       "                                       ('knn', KNeighborsClassifier())]),\n",
       "             param_grid={'knn__n_neighbors': [1, 2, 3, 4, 5, 6, 7, 8, 9, 10, 11,\n",
       "                                              12, 13, 14, 15, 16, 17]},\n",
       "             scoring='accuracy')"
      ]
     },
     "execution_count": 18,
     "metadata": {},
     "output_type": "execute_result"
    }
   ],
   "source": [
    "scaler = StandardScaler()\n",
    "knn =KNeighborsClassifier()\n",
    "\n",
    "steps = [('scaler', scaler), ('knn', knn)]\n",
    "pipe =Pipeline(steps=steps)\n",
    "\n",
    "k_values= list(range(1,18))\n",
    "param_grid={\"knn__n_neighbors\":k_values}\n",
    "full_cv_class = GridSearchCV(pipe,param_grid=param_grid,scoring=\"accuracy\",cv=10)\n",
    "full_cv_class.fit(X_train,y_train)"
   ]
  },
  {
   "cell_type": "code",
   "execution_count": 19,
   "id": "d1897a7f-57d7-4bf1-a92e-c7a8fe118af6",
   "metadata": {},
   "outputs": [
    {
     "data": {
      "text/plain": [
       "{'memory': None,\n",
       " 'steps': [('scaler', StandardScaler()),\n",
       "  ('knn', KNeighborsClassifier(n_neighbors=8))],\n",
       " 'verbose': False,\n",
       " 'scaler': StandardScaler(),\n",
       " 'knn': KNeighborsClassifier(n_neighbors=8),\n",
       " 'scaler__copy': True,\n",
       " 'scaler__with_mean': True,\n",
       " 'scaler__with_std': True,\n",
       " 'knn__algorithm': 'auto',\n",
       " 'knn__leaf_size': 30,\n",
       " 'knn__metric': 'minkowski',\n",
       " 'knn__metric_params': None,\n",
       " 'knn__n_jobs': None,\n",
       " 'knn__n_neighbors': 8,\n",
       " 'knn__p': 2,\n",
       " 'knn__weights': 'uniform'}"
      ]
     },
     "execution_count": 19,
     "metadata": {},
     "output_type": "execute_result"
    }
   ],
   "source": [
    "full_cv_class.best_estimator_.get_params()"
   ]
  },
  {
   "cell_type": "code",
   "execution_count": 20,
   "id": "8d2e595f-9420-4a32-8bbd-bbe1ef52a7e6",
   "metadata": {},
   "outputs": [],
   "source": [
    "def k_neighbors(k):\n",
    "    test_error_rates = []\n",
    "    for k in range(1,k):\n",
    "        knn_model = KNeighborsClassifier(n_neighbors=k)\n",
    "        knn_model.fit(X_train,y_train) \n",
    "\n",
    "        y_pred_test = knn_model.predict(X_test_scale)\n",
    "\n",
    "        test_error = 1 - accuracy_score(y_test,y_pred_test)\n",
    "        test_error_rates.append(test_error)\n",
    "    return test_error_rates.index(min(test_error_rates))"
   ]
  },
  {
   "cell_type": "code",
   "execution_count": 21,
   "id": "c15ad286-7454-45b1-99ff-18e1ff830d77",
   "metadata": {},
   "outputs": [
    {
     "data": {
      "text/plain": [
       "6"
      ]
     },
     "execution_count": 21,
     "metadata": {},
     "output_type": "execute_result"
    }
   ],
   "source": [
    "k_neighbors(8)"
   ]
  },
  {
   "cell_type": "code",
   "execution_count": 22,
   "id": "0154ad49-dbdd-4ade-940d-428d1084c6a7",
   "metadata": {},
   "outputs": [],
   "source": [
    "test_error_rates = []\n",
    "\n",
    "for k in range(1,30):\n",
    "    knn_model = KNeighborsClassifier(n_neighbors=k)\n",
    "    knn_model.fit(X_train_scale,y_train) \n",
    "   \n",
    "    y_pred_test = knn_model.predict(X_test_scale)\n",
    "    \n",
    "    test_error = 1 - accuracy_score(y_test,y_pred_test)\n",
    "    test_error_rates.append(test_error)"
   ]
  },
  {
   "cell_type": "code",
   "execution_count": 23,
   "id": "054b9f8c-4d79-4d02-8721-d9affa9edb00",
   "metadata": {},
   "outputs": [
    {
     "data": {
      "image/png": "[encoded data removed]",
      "text/plain": [
       "<Figure size 1080x576 with 1 Axes>"
      ]
     },
     "metadata": {
      "needs_background": "light"
     },
     "output_type": "display_data"
    }
   ],
   "source": [
    "plt.figure(figsize=(15,8))\n",
    "plt.plot(range(1,30), test_error_rates, color='blue', linestyle='--', marker='o',\n",
    "         markerfacecolor='red', markersize=10)\n",
    "plt.title('Error Rate vs. K Value')\n",
    "plt.xlabel('K_values')\n",
    "plt.ylabel('Error Rate');"
   ]
  },
  {
   "cell_type": "code",
   "execution_count": 24,
   "id": "6a3657d8-d72e-4b22-8bef-b524ff784c96",
   "metadata": {},
   "outputs": [
    {
     "name": "stdout",
     "output_type": "stream",
     "text": [
      "              precision    recall  f1-score   support\n",
      "\n",
      "           0       0.86      0.89      0.87        35\n",
      "           1       0.90      0.88      0.89        41\n",
      "\n",
      "    accuracy                           0.88        76\n",
      "   macro avg       0.88      0.88      0.88        76\n",
      "weighted avg       0.88      0.88      0.88        76\n",
      "\n"
     ]
    }
   ],
   "source": [
    "scaler: StandardScaler()\n",
    "knn: KNeighborsClassifier(n_neighbors=17)\n",
    "steps = [('scaler', scaler), ('knn', knn)]\n",
    "pipe = Pipeline(steps=steps)\n",
    "\n",
    "pipe.fit(X_train,y_train)\n",
    "y_pred_pipe = pipe.predict(X_test)\n",
    "print(classification_report(y_test,y_pred_pipe))"
   ]
  },
  {
   "cell_type": "markdown",
   "id": "310c272a-06df-49ea-b4c4-749462a00e4d",
   "metadata": {},
   "source": [
    "### Implement SVM and Evaluate"
   ]
  },
  {
   "cell_type": "code",
   "execution_count": 25,
   "id": "56daf512-17f3-424b-ae51-6fa4772e9115",
   "metadata": {},
   "outputs": [],
   "source": [
    "from sklearn.svm import SVC,SVR\n",
    "from sklearn.model_selection import GridSearchCV\n",
    "from sklearn.metrics import classification_report,confusion_matrix"
   ]
  },
  {
   "cell_type": "code",
   "execution_count": 26,
   "id": "3ce4a085-be21-49b8-81fc-69bc5a656bc2",
   "metadata": {},
   "outputs": [
    {
     "data": {
      "text/plain": [
       "GridSearchCV(cv=10,\n",
       "             estimator=Pipeline(steps=[('scaler', StandardScaler()),\n",
       "                                       ('svc', SVC())]),\n",
       "             n_jobs=-1,\n",
       "             param_grid={'svc__C': [0.01, 0.1, 0.2, 0.5, 1.0, 2],\n",
       "                         'svc__degree': [1, 2, 3],\n",
       "                         'svc__gamma': ['scale', 'auto'],\n",
       "                         'svc__kernel': ['rbf', 'linear']},\n",
       "             scoring='f1')"
      ]
     },
     "execution_count": 26,
     "metadata": {},
     "output_type": "execute_result"
    }
   ],
   "source": [
    "pipe1 = Pipeline([('scaler', StandardScaler()), ('svc', SVC())])\n",
    "param_grid1 = {'svc__C': [0.01,0.1,0.2,0.5,1.0,2],\n",
    "               'svc__degree': [1,2,3],\n",
    "               'svc__gamma': ['scale',\"auto\"],\n",
    "               'svc__kernel': ['rbf',\"linear\"]}\n",
    "gridCV_pipe = GridSearchCV(pipe1,param_grid=param_grid1,scoring=\"f1\",n_jobs=-1,cv=10)\n",
    "gridCV_pipe.fit(X_train,y_train) "
   ]
  },
  {
   "cell_type": "code",
   "execution_count": 27,
   "id": "740d4f33-6d66-485e-9c5a-b2c504d0c943",
   "metadata": {},
   "outputs": [],
   "source": [
    "y_pipeCV = gridCV_pipe.predict(X_test)"
   ]
  },
  {
   "cell_type": "code",
   "execution_count": 28,
   "id": "f86eaee9-e9a4-446c-9e74-596a67902e25",
   "metadata": {},
   "outputs": [
    {
     "name": "stdout",
     "output_type": "stream",
     "text": [
      "[[29  6]\n",
      " [ 7 34]]\n",
      "              precision    recall  f1-score   support\n",
      "\n",
      "           0       0.81      0.83      0.82        35\n",
      "           1       0.85      0.83      0.84        41\n",
      "\n",
      "    accuracy                           0.83        76\n",
      "   macro avg       0.83      0.83      0.83        76\n",
      "weighted avg       0.83      0.83      0.83        76\n",
      "\n"
     ]
    }
   ],
   "source": [
    "print(confusion_matrix(y_test,y_pipeCV))\n",
    "print(classification_report(y_test,y_pipeCV)) # SVC değeri "
   ]
  },
  {
   "cell_type": "code",
   "execution_count": 29,
   "id": "2da8e88c-4082-49d0-b696-d03aeb999d6e",
   "metadata": {},
   "outputs": [
    {
     "name": "stdout",
     "output_type": "stream",
     "text": [
      "[[31  4]\n",
      " [ 5 36]]\n",
      "              precision    recall  f1-score   support\n",
      "\n",
      "           0       0.86      0.89      0.87        35\n",
      "           1       0.90      0.88      0.89        41\n",
      "\n",
      "    accuracy                           0.88        76\n",
      "   macro avg       0.88      0.88      0.88        76\n",
      "weighted avg       0.88      0.88      0.88        76\n",
      "\n"
     ]
    }
   ],
   "source": [
    "print(confusion_matrix(y_test,y_pred_pipe))\n",
    "print(classification_report(y_test,y_pred_pipe))  #KNN e göre değerler"
   ]
  }
 ],
 "metadata": {
  "kernelspec": {
   "display_name": "Python 3",
   "language": "python",
   "name": "python3"
  },
  "language_info": {
   "codemirror_mode": {
    "name": "ipython",
    "version": 3
   },
   "file_extension": ".py",
   "mimetype": "text/x-python",
   "name": "python",
   "nbconvert_exporter": "python",
   "pygments_lexer": "ipython3",
   "version": "3.8.8"
  }
 },
 "nbformat": 4,
 "nbformat_minor": 5
}
