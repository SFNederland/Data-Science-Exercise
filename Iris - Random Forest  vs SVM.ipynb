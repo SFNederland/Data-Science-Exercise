{
 "cells": [
  {
   "cell_type": "code",
   "execution_count": 1,
   "id": "02f03e5e",
   "metadata": {
    "execution": {
     "iopub.execute_input": "2021-10-08T22:26:40.791319Z",
     "iopub.status.busy": "2021-10-08T22:26:40.790095Z",
     "iopub.status.idle": "2021-10-08T22:26:41.770547Z",
     "shell.execute_reply": "2021-10-08T22:26:41.771171Z",
     "shell.execute_reply.started": "2021-10-08T22:22:10.211262Z"
    },
    "papermill": {
     "duration": 1.016708,
     "end_time": "2021-10-08T22:26:41.771535",
     "exception": false,
     "start_time": "2021-10-08T22:26:40.754827",
     "status": "completed"
    },
    "tags": []
   },
   "outputs": [],
   "source": [
    "import numpy as np\n",
    "import pandas as pd\n",
    "import matplotlib.pyplot as plt\n",
    "import seaborn as sns\n",
    "import warnings\n",
    "warnings.filterwarnings(\"ignore\")\n",
    "warnings.warn(\"this will not show\")\n",
    "\n",
    "plt.rcParams[\"figure.figsize\"] = (10,6)\n",
    "pd.set_option(\"max_columns\",100)\n",
    "pd.set_option(\"max_rows\",900)\n",
    "pd.set_option(\"max_colwidth\",200)"
   ]
  },
  {
   "cell_type": "code",
   "execution_count": 2,
   "id": "199dafa8",
   "metadata": {
    "execution": {
     "iopub.execute_input": "2021-10-08T22:26:41.835951Z",
     "iopub.status.busy": "2021-10-08T22:26:41.835205Z",
     "iopub.status.idle": "2021-10-08T22:26:41.874567Z",
     "shell.execute_reply": "2021-10-08T22:26:41.875163Z",
     "shell.execute_reply.started": "2021-10-08T22:22:10.611367Z"
    },
    "papermill": {
     "duration": 0.074395,
     "end_time": "2021-10-08T22:26:41.875362",
     "exception": false,
     "start_time": "2021-10-08T22:26:41.800967",
     "status": "completed"
    },
    "tags": []
   },
   "outputs": [
    {
     "data": {
      "text/html": [
       "<div>\n",
       "<style scoped>\n",
       "    .dataframe tbody tr th:only-of-type {\n",
       "        vertical-align: middle;\n",
       "    }\n",
       "\n",
       "    .dataframe tbody tr th {\n",
       "        vertical-align: top;\n",
       "    }\n",
       "\n",
       "    .dataframe thead th {\n",
       "        text-align: right;\n",
       "    }\n",
       "</style>\n",
       "<table border=\"1\" class=\"dataframe\">\n",
       "  <thead>\n",
       "    <tr style=\"text-align: right;\">\n",
       "      <th></th>\n",
       "      <th>Id</th>\n",
       "      <th>SepalLengthCm</th>\n",
       "      <th>SepalWidthCm</th>\n",
       "      <th>PetalLengthCm</th>\n",
       "      <th>PetalWidthCm</th>\n",
       "      <th>Species</th>\n",
       "    </tr>\n",
       "  </thead>\n",
       "  <tbody>\n",
       "    <tr>\n",
       "      <th>16</th>\n",
       "      <td>17</td>\n",
       "      <td>5.4</td>\n",
       "      <td>3.9</td>\n",
       "      <td>1.3</td>\n",
       "      <td>0.4</td>\n",
       "      <td>Iris-setosa</td>\n",
       "    </tr>\n",
       "    <tr>\n",
       "      <th>109</th>\n",
       "      <td>110</td>\n",
       "      <td>7.2</td>\n",
       "      <td>3.6</td>\n",
       "      <td>6.1</td>\n",
       "      <td>2.5</td>\n",
       "      <td>Iris-virginica</td>\n",
       "    </tr>\n",
       "    <tr>\n",
       "      <th>17</th>\n",
       "      <td>18</td>\n",
       "      <td>5.1</td>\n",
       "      <td>3.5</td>\n",
       "      <td>1.4</td>\n",
       "      <td>0.3</td>\n",
       "      <td>Iris-setosa</td>\n",
       "    </tr>\n",
       "    <tr>\n",
       "      <th>146</th>\n",
       "      <td>147</td>\n",
       "      <td>6.3</td>\n",
       "      <td>2.5</td>\n",
       "      <td>5.0</td>\n",
       "      <td>1.9</td>\n",
       "      <td>Iris-virginica</td>\n",
       "    </tr>\n",
       "    <tr>\n",
       "      <th>0</th>\n",
       "      <td>1</td>\n",
       "      <td>5.1</td>\n",
       "      <td>3.5</td>\n",
       "      <td>1.4</td>\n",
       "      <td>0.2</td>\n",
       "      <td>Iris-setosa</td>\n",
       "    </tr>\n",
       "    <tr>\n",
       "      <th>60</th>\n",
       "      <td>61</td>\n",
       "      <td>5.0</td>\n",
       "      <td>2.0</td>\n",
       "      <td>3.5</td>\n",
       "      <td>1.0</td>\n",
       "      <td>Iris-versicolor</td>\n",
       "    </tr>\n",
       "    <tr>\n",
       "      <th>112</th>\n",
       "      <td>113</td>\n",
       "      <td>6.8</td>\n",
       "      <td>3.0</td>\n",
       "      <td>5.5</td>\n",
       "      <td>2.1</td>\n",
       "      <td>Iris-virginica</td>\n",
       "    </tr>\n",
       "  </tbody>\n",
       "</table>\n",
       "</div>"
      ],
      "text/plain": [
       "      Id  SepalLengthCm  SepalWidthCm  PetalLengthCm  PetalWidthCm  \\\n",
       "16    17            5.4           3.9            1.3           0.4   \n",
       "109  110            7.2           3.6            6.1           2.5   \n",
       "17    18            5.1           3.5            1.4           0.3   \n",
       "146  147            6.3           2.5            5.0           1.9   \n",
       "0      1            5.1           3.5            1.4           0.2   \n",
       "60    61            5.0           2.0            3.5           1.0   \n",
       "112  113            6.8           3.0            5.5           2.1   \n",
       "\n",
       "             Species  \n",
       "16       Iris-setosa  \n",
       "109   Iris-virginica  \n",
       "17       Iris-setosa  \n",
       "146   Iris-virginica  \n",
       "0        Iris-setosa  \n",
       "60   Iris-versicolor  \n",
       "112   Iris-virginica  "
      ]
     },
     "execution_count": 2,
     "metadata": {},
     "output_type": "execute_result"
    }
   ],
   "source": [
    "dataset = pd.read_csv(\"../input/iris/Iris.csv\")\n",
    "df = dataset.copy()\n",
    "df.sample(7)"
   ]
  },
  {
   "cell_type": "markdown",
   "id": "0d97158c",
   "metadata": {
    "papermill": {
     "duration": 0.028228,
     "end_time": "2021-10-08T22:26:41.932768",
     "exception": false,
     "start_time": "2021-10-08T22:26:41.904540",
     "status": "completed"
    },
    "tags": []
   },
   "source": [
    "## Exploratory Data Analysis and Visualization\n"
   ]
  },
  {
   "cell_type": "code",
   "execution_count": 3,
   "id": "9bcb5d1c",
   "metadata": {
    "execution": {
     "iopub.execute_input": "2021-10-08T22:26:41.996194Z",
     "iopub.status.busy": "2021-10-08T22:26:41.995158Z",
     "iopub.status.idle": "2021-10-08T22:26:42.020796Z",
     "shell.execute_reply": "2021-10-08T22:26:42.020050Z",
     "shell.execute_reply.started": "2021-10-08T22:22:10.643702Z"
    },
    "papermill": {
     "duration": 0.057947,
     "end_time": "2021-10-08T22:26:42.020962",
     "exception": false,
     "start_time": "2021-10-08T22:26:41.963015",
     "status": "completed"
    },
    "tags": []
   },
   "outputs": [
    {
     "name": "stdout",
     "output_type": "stream",
     "text": [
      "<class 'pandas.core.frame.DataFrame'>\n",
      "RangeIndex: 150 entries, 0 to 149\n",
      "Data columns (total 6 columns):\n",
      " #   Column         Non-Null Count  Dtype  \n",
      "---  ------         --------------  -----  \n",
      " 0   Id             150 non-null    int64  \n",
      " 1   SepalLengthCm  150 non-null    float64\n",
      " 2   SepalWidthCm   150 non-null    float64\n",
      " 3   PetalLengthCm  150 non-null    float64\n",
      " 4   PetalWidthCm   150 non-null    float64\n",
      " 5   Species        150 non-null    object \n",
      "dtypes: float64(4), int64(1), object(1)\n",
      "memory usage: 7.2+ KB\n"
     ]
    }
   ],
   "source": [
    "df.info()"
   ]
  },
  {
   "cell_type": "code",
   "execution_count": 4,
   "id": "55383333",
   "metadata": {
    "execution": {
     "iopub.execute_input": "2021-10-08T22:26:42.098788Z",
     "iopub.status.busy": "2021-10-08T22:26:42.098126Z",
     "iopub.status.idle": "2021-10-08T22:26:42.102488Z",
     "shell.execute_reply": "2021-10-08T22:26:42.101837Z",
     "shell.execute_reply.started": "2021-10-08T22:22:10.660592Z"
    },
    "papermill": {
     "duration": 0.05242,
     "end_time": "2021-10-08T22:26:42.102625",
     "exception": false,
     "start_time": "2021-10-08T22:26:42.050205",
     "status": "completed"
    },
    "tags": []
   },
   "outputs": [
    {
     "data": {
      "text/html": [
       "<div>\n",
       "<style scoped>\n",
       "    .dataframe tbody tr th:only-of-type {\n",
       "        vertical-align: middle;\n",
       "    }\n",
       "\n",
       "    .dataframe tbody tr th {\n",
       "        vertical-align: top;\n",
       "    }\n",
       "\n",
       "    .dataframe thead th {\n",
       "        text-align: right;\n",
       "    }\n",
       "</style>\n",
       "<table border=\"1\" class=\"dataframe\">\n",
       "  <thead>\n",
       "    <tr style=\"text-align: right;\">\n",
       "      <th></th>\n",
       "      <th>Missing_Number</th>\n",
       "      <th>Missing_Percent</th>\n",
       "    </tr>\n",
       "  </thead>\n",
       "  <tbody>\n",
       "    <tr>\n",
       "      <th>Id</th>\n",
       "      <td>0</td>\n",
       "      <td>0.0</td>\n",
       "    </tr>\n",
       "    <tr>\n",
       "      <th>SepalLengthCm</th>\n",
       "      <td>0</td>\n",
       "      <td>0.0</td>\n",
       "    </tr>\n",
       "    <tr>\n",
       "      <th>SepalWidthCm</th>\n",
       "      <td>0</td>\n",
       "      <td>0.0</td>\n",
       "    </tr>\n",
       "    <tr>\n",
       "      <th>PetalLengthCm</th>\n",
       "      <td>0</td>\n",
       "      <td>0.0</td>\n",
       "    </tr>\n",
       "    <tr>\n",
       "      <th>PetalWidthCm</th>\n",
       "      <td>0</td>\n",
       "      <td>0.0</td>\n",
       "    </tr>\n",
       "    <tr>\n",
       "      <th>Species</th>\n",
       "      <td>0</td>\n",
       "      <td>0.0</td>\n",
       "    </tr>\n",
       "  </tbody>\n",
       "</table>\n",
       "</div>"
      ],
      "text/plain": [
       "               Missing_Number  Missing_Percent\n",
       "Id                          0              0.0\n",
       "SepalLengthCm               0              0.0\n",
       "SepalWidthCm                0              0.0\n",
       "PetalLengthCm               0              0.0\n",
       "PetalWidthCm                0              0.0\n",
       "Species                     0              0.0"
      ]
     },
     "execution_count": 4,
     "metadata": {},
     "output_type": "execute_result"
    }
   ],
   "source": [
    "def missing(df):\n",
    "    missing_number = df.isnull().sum().sort_values(ascending=False)\n",
    "    missing_percent = (df.isnull().sum()/df.isnull().count()).sort_values(ascending=False)\n",
    "    missing_values = pd.concat([missing_number, missing_percent], axis=1, keys=['Missing_Number', 'Missing_Percent'])\n",
    "    return missing_values\n",
    "\n",
    "missing(df)"
   ]
  },
  {
   "cell_type": "code",
   "execution_count": 5,
   "id": "ba1a9b80",
   "metadata": {
    "execution": {
     "iopub.execute_input": "2021-10-08T22:26:42.165026Z",
     "iopub.status.busy": "2021-10-08T22:26:42.164392Z",
     "iopub.status.idle": "2021-10-08T22:26:42.192622Z",
     "shell.execute_reply": "2021-10-08T22:26:42.192081Z",
     "shell.execute_reply.started": "2021-10-08T22:22:10.684997Z"
    },
    "papermill": {
     "duration": 0.060911,
     "end_time": "2021-10-08T22:26:42.192765",
     "exception": false,
     "start_time": "2021-10-08T22:26:42.131854",
     "status": "completed"
    },
    "tags": []
   },
   "outputs": [
    {
     "data": {
      "text/html": [
       "<div>\n",
       "<style scoped>\n",
       "    .dataframe tbody tr th:only-of-type {\n",
       "        vertical-align: middle;\n",
       "    }\n",
       "\n",
       "    .dataframe tbody tr th {\n",
       "        vertical-align: top;\n",
       "    }\n",
       "\n",
       "    .dataframe thead th {\n",
       "        text-align: right;\n",
       "    }\n",
       "</style>\n",
       "<table border=\"1\" class=\"dataframe\">\n",
       "  <thead>\n",
       "    <tr style=\"text-align: right;\">\n",
       "      <th></th>\n",
       "      <th>Id</th>\n",
       "      <th>SepalLengthCm</th>\n",
       "      <th>SepalWidthCm</th>\n",
       "      <th>PetalLengthCm</th>\n",
       "      <th>PetalWidthCm</th>\n",
       "    </tr>\n",
       "  </thead>\n",
       "  <tbody>\n",
       "    <tr>\n",
       "      <th>count</th>\n",
       "      <td>150.000000</td>\n",
       "      <td>150.000000</td>\n",
       "      <td>150.000000</td>\n",
       "      <td>150.000000</td>\n",
       "      <td>150.000000</td>\n",
       "    </tr>\n",
       "    <tr>\n",
       "      <th>mean</th>\n",
       "      <td>75.500000</td>\n",
       "      <td>5.843333</td>\n",
       "      <td>3.054000</td>\n",
       "      <td>3.758667</td>\n",
       "      <td>1.198667</td>\n",
       "    </tr>\n",
       "    <tr>\n",
       "      <th>std</th>\n",
       "      <td>43.445368</td>\n",
       "      <td>0.828066</td>\n",
       "      <td>0.433594</td>\n",
       "      <td>1.764420</td>\n",
       "      <td>0.763161</td>\n",
       "    </tr>\n",
       "    <tr>\n",
       "      <th>min</th>\n",
       "      <td>1.000000</td>\n",
       "      <td>4.300000</td>\n",
       "      <td>2.000000</td>\n",
       "      <td>1.000000</td>\n",
       "      <td>0.100000</td>\n",
       "    </tr>\n",
       "    <tr>\n",
       "      <th>25%</th>\n",
       "      <td>38.250000</td>\n",
       "      <td>5.100000</td>\n",
       "      <td>2.800000</td>\n",
       "      <td>1.600000</td>\n",
       "      <td>0.300000</td>\n",
       "    </tr>\n",
       "    <tr>\n",
       "      <th>50%</th>\n",
       "      <td>75.500000</td>\n",
       "      <td>5.800000</td>\n",
       "      <td>3.000000</td>\n",
       "      <td>4.350000</td>\n",
       "      <td>1.300000</td>\n",
       "    </tr>\n",
       "    <tr>\n",
       "      <th>75%</th>\n",
       "      <td>112.750000</td>\n",
       "      <td>6.400000</td>\n",
       "      <td>3.300000</td>\n",
       "      <td>5.100000</td>\n",
       "      <td>1.800000</td>\n",
       "    </tr>\n",
       "    <tr>\n",
       "      <th>max</th>\n",
       "      <td>150.000000</td>\n",
       "      <td>7.900000</td>\n",
       "      <td>4.400000</td>\n",
       "      <td>6.900000</td>\n",
       "      <td>2.500000</td>\n",
       "    </tr>\n",
       "  </tbody>\n",
       "</table>\n",
       "</div>"
      ],
      "text/plain": [
       "               Id  SepalLengthCm  SepalWidthCm  PetalLengthCm  PetalWidthCm\n",
       "count  150.000000     150.000000    150.000000     150.000000    150.000000\n",
       "mean    75.500000       5.843333      3.054000       3.758667      1.198667\n",
       "std     43.445368       0.828066      0.433594       1.764420      0.763161\n",
       "min      1.000000       4.300000      2.000000       1.000000      0.100000\n",
       "25%     38.250000       5.100000      2.800000       1.600000      0.300000\n",
       "50%     75.500000       5.800000      3.000000       4.350000      1.300000\n",
       "75%    112.750000       6.400000      3.300000       5.100000      1.800000\n",
       "max    150.000000       7.900000      4.400000       6.900000      2.500000"
      ]
     },
     "execution_count": 5,
     "metadata": {},
     "output_type": "execute_result"
    }
   ],
   "source": [
    "df.describe()"
   ]
  },
  {
   "cell_type": "code",
   "execution_count": 6,
   "id": "c03a6175",
   "metadata": {
    "execution": {
     "iopub.execute_input": "2021-10-08T22:26:42.260042Z",
     "iopub.status.busy": "2021-10-08T22:26:42.259315Z",
     "iopub.status.idle": "2021-10-08T22:26:42.260761Z",
     "shell.execute_reply": "2021-10-08T22:26:42.261379Z",
     "shell.execute_reply.started": "2021-10-08T22:22:10.721637Z"
    },
    "papermill": {
     "duration": 0.038525,
     "end_time": "2021-10-08T22:26:42.261576",
     "exception": false,
     "start_time": "2021-10-08T22:26:42.223051",
     "status": "completed"
    },
    "tags": []
   },
   "outputs": [],
   "source": [
    "df.drop(columns=\"Id\",inplace=True)"
   ]
  },
  {
   "cell_type": "code",
   "execution_count": 7,
   "id": "3f5eed31",
   "metadata": {
    "execution": {
     "iopub.execute_input": "2021-10-08T22:26:42.328234Z",
     "iopub.status.busy": "2021-10-08T22:26:42.327507Z",
     "iopub.status.idle": "2021-10-08T22:26:42.337283Z",
     "shell.execute_reply": "2021-10-08T22:26:42.337914Z",
     "shell.execute_reply.started": "2021-10-08T22:22:10.729466Z"
    },
    "papermill": {
     "duration": 0.045744,
     "end_time": "2021-10-08T22:26:42.338114",
     "exception": false,
     "start_time": "2021-10-08T22:26:42.292370",
     "status": "completed"
    },
    "tags": []
   },
   "outputs": [
    {
     "data": {
      "text/plain": [
       "3"
      ]
     },
     "execution_count": 7,
     "metadata": {},
     "output_type": "execute_result"
    }
   ],
   "source": [
    "df.duplicated().sum()"
   ]
  },
  {
   "cell_type": "code",
   "execution_count": 8,
   "id": "06afb017",
   "metadata": {
    "execution": {
     "iopub.execute_input": "2021-10-08T22:26:42.409581Z",
     "iopub.status.busy": "2021-10-08T22:26:42.408780Z",
     "iopub.status.idle": "2021-10-08T22:26:42.411833Z",
     "shell.execute_reply": "2021-10-08T22:26:42.412434Z",
     "shell.execute_reply.started": "2021-10-08T22:22:10.747082Z"
    },
    "papermill": {
     "duration": 0.043333,
     "end_time": "2021-10-08T22:26:42.412638",
     "exception": false,
     "start_time": "2021-10-08T22:26:42.369305",
     "status": "completed"
    },
    "tags": []
   },
   "outputs": [],
   "source": [
    "df = df.drop_duplicates()"
   ]
  },
  {
   "cell_type": "code",
   "execution_count": 9,
   "id": "d463c2ae",
   "metadata": {
    "execution": {
     "iopub.execute_input": "2021-10-08T22:26:42.478559Z",
     "iopub.status.busy": "2021-10-08T22:26:42.477829Z",
     "iopub.status.idle": "2021-10-08T22:26:42.485806Z",
     "shell.execute_reply": "2021-10-08T22:26:42.485277Z",
     "shell.execute_reply.started": "2021-10-08T22:22:10.760370Z"
    },
    "papermill": {
     "duration": 0.042275,
     "end_time": "2021-10-08T22:26:42.485982",
     "exception": false,
     "start_time": "2021-10-08T22:26:42.443707",
     "status": "completed"
    },
    "tags": []
   },
   "outputs": [
    {
     "data": {
      "text/plain": [
       "SepalLengthCm    0.292560\n",
       "SepalWidthCm     0.324351\n",
       "PetalLengthCm   -0.293763\n",
       "PetalWidthCm    -0.113479\n",
       "dtype: float64"
      ]
     },
     "execution_count": 9,
     "metadata": {},
     "output_type": "execute_result"
    }
   ],
   "source": [
    "df.skew()"
   ]
  },
  {
   "cell_type": "code",
   "execution_count": 10,
   "id": "d8c338d6",
   "metadata": {
    "execution": {
     "iopub.execute_input": "2021-10-08T22:26:42.574208Z",
     "iopub.status.busy": "2021-10-08T22:26:42.556229Z",
     "iopub.status.idle": "2021-10-08T22:26:42.905393Z",
     "shell.execute_reply": "2021-10-08T22:26:42.905950Z",
     "shell.execute_reply.started": "2021-10-08T22:22:10.781238Z"
    },
    "papermill": {
     "duration": 0.388784,
     "end_time": "2021-10-08T22:26:42.906154",
     "exception": false,
     "start_time": "2021-10-08T22:26:42.517370",
     "status": "completed"
    },
    "tags": []
   },
   "outputs": [
    {
     "data": {
      "image/png": "[encoded data removed]",
      "text/plain": [
       "<Figure size 720x432 with 2 Axes>"
      ]
     },
     "metadata": {
      "needs_background": "light"
     },
     "output_type": "display_data"
    }
   ],
   "source": [
    "sns.heatmap(df.corr(),annot=True);"
   ]
  },
  {
   "cell_type": "code",
   "execution_count": 11,
   "id": "0fe65bbc",
   "metadata": {
    "execution": {
     "iopub.execute_input": "2021-10-08T22:26:43.018379Z",
     "iopub.status.busy": "2021-10-08T22:26:42.982086Z",
     "iopub.status.idle": "2021-10-08T22:26:43.140754Z",
     "shell.execute_reply": "2021-10-08T22:26:43.140178Z",
     "shell.execute_reply.started": "2021-10-08T22:22:11.106547Z"
    },
    "papermill": {
     "duration": 0.202605,
     "end_time": "2021-10-08T22:26:43.140968",
     "exception": false,
     "start_time": "2021-10-08T22:26:42.938363",
     "status": "completed"
    },
    "tags": []
   },
   "outputs": [
    {
     "data": {
      "image/png": "[encoded data removed]",
      "text/plain": [
       "<Figure size 720x432 with 1 Axes>"
      ]
     },
     "metadata": {
      "needs_background": "light"
     },
     "output_type": "display_data"
    }
   ],
   "source": [
    "sns.countplot(data=df,x=\"Species\");"
   ]
  },
  {
   "cell_type": "code",
   "execution_count": 12,
   "id": "029ba4d9",
   "metadata": {
    "execution": {
     "iopub.execute_input": "2021-10-08T22:26:43.214606Z",
     "iopub.status.busy": "2021-10-08T22:26:43.213376Z",
     "iopub.status.idle": "2021-10-08T22:26:48.596255Z",
     "shell.execute_reply": "2021-10-08T22:26:48.596775Z",
     "shell.execute_reply.started": "2021-10-08T22:22:11.288024Z"
    },
    "papermill": {
     "duration": 5.42139,
     "end_time": "2021-10-08T22:26:48.596995",
     "exception": false,
     "start_time": "2021-10-08T22:26:43.175605",
     "status": "completed"
    },
    "tags": []
   },
   "outputs": [
    {
     "data": {
      "image/png": "[encoded data removed]",
      "text/plain": [
       "<Figure size 823.25x720 with 20 Axes>"
      ]
     },
     "metadata": {
      "needs_background": "light"
     },
     "output_type": "display_data"
    }
   ],
   "source": [
    "sns.pairplot(df,hue='Species');"
   ]
  },
  {
   "cell_type": "code",
   "execution_count": 13,
   "id": "d50c0095",
   "metadata": {
    "execution": {
     "iopub.execute_input": "2021-10-08T22:26:48.679509Z",
     "iopub.status.busy": "2021-10-08T22:26:48.678825Z",
     "iopub.status.idle": "2021-10-08T22:26:50.218349Z",
     "shell.execute_reply": "2021-10-08T22:26:50.217741Z",
     "shell.execute_reply.started": "2021-10-08T22:22:16.630235Z"
    },
    "papermill": {
     "duration": 1.581869,
     "end_time": "2021-10-08T22:26:50.218514",
     "exception": false,
     "start_time": "2021-10-08T22:26:48.636645",
     "status": "completed"
    },
    "tags": []
   },
   "outputs": [],
   "source": [
    "import plotly.express as px"
   ]
  },
  {
   "cell_type": "markdown",
   "id": "abccb851",
   "metadata": {
    "papermill": {
     "duration": 0.038805,
     "end_time": "2021-10-08T22:26:50.296461",
     "exception": false,
     "start_time": "2021-10-08T22:26:50.257656",
     "status": "completed"
    },
    "tags": []
   },
   "source": [
    "#### 3 Boyut olduğu için 4 sutun seçemezdim. Bu yüzden yüksek korele olan sutunlarımdan sadece birini seçerek grafiği çizdirdim. 👇"
   ]
  },
  {
   "cell_type": "code",
   "execution_count": 14,
   "id": "c0903df5",
   "metadata": {
    "execution": {
     "iopub.execute_input": "2021-10-08T22:26:50.381926Z",
     "iopub.status.busy": "2021-10-08T22:26:50.381173Z",
     "iopub.status.idle": "2021-10-08T22:26:51.566154Z",
     "shell.execute_reply": "2021-10-08T22:26:51.567186Z",
     "shell.execute_reply.started": "2021-10-08T22:22:17.579076Z"
    },
    "papermill": {
     "duration": 1.231501,
     "end_time": "2021-10-08T22:26:51.567604",
     "exception": false,
     "start_time": "2021-10-08T22:26:50.336103",
     "status": "completed"
    },
    "tags": []
   },
   "outputs": [
    {
     "data": {
      "text/html": [
       "        <script type=\"text/javascript\">\n",
       "        window.PlotlyConfig = {MathJaxConfig: 'local'};\n",
       "        if (window.MathJax) {MathJax.Hub.Config({SVG: {font: \"STIX-Web\"}});}\n",
       "        if (typeof require !== 'undefined') {\n",
       "        require.undef(\"plotly\");\n",
       "        requirejs.config({\n",
       "            paths: {\n",
       "                'plotly': ['https://cdn.plot.ly/plotly-2.4.2.min']\n",
       "            }\n",
       "        });\n",
       "        require(['plotly'], function(Plotly) {\n",
       "            window._Plotly = Plotly;\n",
       "        });\n",
       "        }\n",
       "        </script>\n",
       "        "
      ]
     },
     "metadata": {},
     "output_type": "display_data"
    },
    {
     "data": {
      "text/html": [
       "<div>                            <div id=\"0f73982f-7235-4821-b1fb-4c1054f9d592\" class=\"plotly-graph-div\" style=\"height:525px; width:100%;\"></div>            <script type=\"text/javascript\">                require([\"plotly\"], function(Plotly) {                    window.PLOTLYENV=window.PLOTLYENV || {};                                    if (document.getElementById(\"0f73982f-7235-4821-b1fb-4c1054f9d592\")) {                    Plotly.newPlot(                        \"0f73982f-7235-4821-b1fb-4c1054f9d592\",                        [{\"hovertemplate\":\"Species=Iris-setosa<br>SepalLengthCm=%{x}<br>SepalWidthCm=%{y}<br>PetalWidthCm=%{z}<extra></extra>\",\"legendgroup\":\"Iris-setosa\",\"marker\":{\"color\":\"#636efa\",\"symbol\":\"circle\"},\"mode\":\"markers\",\"name\":\"Iris-setosa\",\"scene\":\"scene\",\"showlegend\":true,\"type\":\"scatter3d\",\"x\":[5.1,4.9,4.7,4.6,5.0,5.4,4.6,5.0,4.4,4.9,5.4,4.8,4.8,4.3,5.8,5.7,5.4,5.1,5.7,5.1,5.4,5.1,4.6,5.1,4.8,5.0,5.0,5.2,5.2,4.7,4.8,5.4,5.2,5.5,5.0,5.5,4.4,5.1,5.0,4.5,4.4,5.0,5.1,4.8,5.1,4.6,5.3,5.0],\"y\":[3.5,3.0,3.2,3.1,3.6,3.9,3.4,3.4,2.9,3.1,3.7,3.4,3.0,3.0,4.0,4.4,3.9,3.5,3.8,3.8,3.4,3.7,3.6,3.3,3.4,3.0,3.4,3.5,3.4,3.2,3.1,3.4,4.1,4.2,3.2,3.5,3.0,3.4,3.5,2.3,3.2,3.5,3.8,3.0,3.8,3.2,3.7,3.3],\"z\":[0.2,0.2,0.2,0.2,0.2,0.4,0.3,0.2,0.2,0.1,0.2,0.2,0.1,0.1,0.2,0.4,0.4,0.3,0.3,0.3,0.2,0.4,0.2,0.5,0.2,0.2,0.4,0.2,0.2,0.2,0.2,0.4,0.1,0.2,0.2,0.2,0.2,0.2,0.3,0.3,0.2,0.6,0.4,0.3,0.2,0.2,0.2,0.2]},{\"hovertemplate\":\"Species=Iris-versicolor<br>SepalLengthCm=%{x}<br>SepalWidthCm=%{y}<br>PetalWidthCm=%{z}<extra></extra>\",\"legendgroup\":\"Iris-versicolor\",\"marker\":{\"color\":\"#EF553B\",\"symbol\":\"circle\"},\"mode\":\"markers\",\"name\":\"Iris-versicolor\",\"scene\":\"scene\",\"showlegend\":true,\"type\":\"scatter3d\",\"x\":[7.0,6.4,6.9,5.5,6.5,5.7,6.3,4.9,6.6,5.2,5.0,5.9,6.0,6.1,5.6,6.7,5.6,5.8,6.2,5.6,5.9,6.1,6.3,6.1,6.4,6.6,6.8,6.7,6.0,5.7,5.5,5.5,5.8,6.0,5.4,6.0,6.7,6.3,5.6,5.5,5.5,6.1,5.8,5.0,5.6,5.7,5.7,6.2,5.1,5.7],\"y\":[3.2,3.2,3.1,2.3,2.8,2.8,3.3,2.4,2.9,2.7,2.0,3.0,2.2,2.9,2.9,3.1,3.0,2.7,2.2,2.5,3.2,2.8,2.5,2.8,2.9,3.0,2.8,3.0,2.9,2.6,2.4,2.4,2.7,2.7,3.0,3.4,3.1,2.3,3.0,2.5,2.6,3.0,2.6,2.3,2.7,3.0,2.9,2.9,2.5,2.8],\"z\":[1.4,1.5,1.5,1.3,1.5,1.3,1.6,1.0,1.3,1.4,1.0,1.5,1.0,1.4,1.3,1.4,1.5,1.0,1.5,1.1,1.8,1.3,1.5,1.2,1.3,1.4,1.4,1.7,1.5,1.0,1.1,1.0,1.2,1.6,1.5,1.6,1.5,1.3,1.3,1.3,1.2,1.4,1.2,1.0,1.3,1.2,1.3,1.3,1.1,1.3]},{\"hovertemplate\":\"Species=Iris-virginica<br>SepalLengthCm=%{x}<br>SepalWidthCm=%{y}<br>PetalWidthCm=%{z}<extra></extra>\",\"legendgroup\":\"Iris-virginica\",\"marker\":{\"color\":\"#00cc96\",\"symbol\":\"circle\"},\"mode\":\"markers\",\"name\":\"Iris-virginica\",\"scene\":\"scene\",\"showlegend\":true,\"type\":\"scatter3d\",\"x\":[6.3,5.8,7.1,6.3,6.5,7.6,4.9,7.3,6.7,7.2,6.5,6.4,6.8,5.7,5.8,6.4,6.5,7.7,7.7,6.0,6.9,5.6,7.7,6.3,6.7,7.2,6.2,6.1,6.4,7.2,7.4,7.9,6.4,6.3,6.1,7.7,6.3,6.4,6.0,6.9,6.7,6.9,6.8,6.7,6.7,6.3,6.5,6.2,5.9],\"y\":[3.3,2.7,3.0,2.9,3.0,3.0,2.5,2.9,2.5,3.6,3.2,2.7,3.0,2.5,2.8,3.2,3.0,3.8,2.6,2.2,3.2,2.8,2.8,2.7,3.3,3.2,2.8,3.0,2.8,3.0,2.8,3.8,2.8,2.8,2.6,3.0,3.4,3.1,3.0,3.1,3.1,3.1,3.2,3.3,3.0,2.5,3.0,3.4,3.0],\"z\":[2.5,1.9,2.1,1.8,2.2,2.1,1.7,1.8,1.8,2.5,2.0,1.9,2.1,2.0,2.4,2.3,1.8,2.2,2.3,1.5,2.3,2.0,2.0,1.8,2.1,1.8,1.8,1.8,2.1,1.6,1.9,2.0,2.2,1.5,1.4,2.3,2.4,1.8,1.8,2.1,2.4,2.3,2.3,2.5,2.3,1.9,2.0,2.3,1.8]}],                        {\"legend\":{\"title\":{\"text\":\"Species\"},\"tracegroupgap\":0},\"margin\":{\"t\":60},\"scene\":{\"domain\":{\"x\":[0.0,1.0],\"y\":[0.0,1.0]},\"xaxis\":{\"title\":{\"text\":\"SepalLengthCm\"}},\"yaxis\":{\"title\":{\"text\":\"SepalWidthCm\"}},\"zaxis\":{\"title\":{\"text\":\"PetalWidthCm\"}}},\"template\":{\"data\":{\"bar\":[{\"error_x\":{\"color\":\"#2a3f5f\"},\"error_y\":{\"color\":\"#2a3f5f\"},\"marker\":{\"line\":{\"color\":\"#E5ECF6\",\"width\":0.5},\"pattern\":{\"fillmode\":\"overlay\",\"size\":10,\"solidity\":0.2}},\"type\":\"bar\"}],\"barpolar\":[{\"marker\":{\"line\":{\"color\":\"#E5ECF6\",\"width\":0.5},\"pattern\":{\"fillmode\":\"overlay\",\"size\":10,\"solidity\":0.2}},\"type\":\"barpolar\"}],\"carpet\":[{\"aaxis\":{\"endlinecolor\":\"#2a3f5f\",\"gridcolor\":\"white\",\"linecolor\":\"white\",\"minorgridcolor\":\"white\",\"startlinecolor\":\"#2a3f5f\"},\"baxis\":{\"endlinecolor\":\"#2a3f5f\",\"gridcolor\":\"white\",\"linecolor\":\"white\",\"minorgridcolor\":\"white\",\"startlinecolor\":\"#2a3f5f\"},\"type\":\"carpet\"}],\"choropleth\":[{\"colorbar\":{\"outlinewidth\":0,\"ticks\":\"\"},\"type\":\"choropleth\"}],\"contour\":[{\"colorbar\":{\"outlinewidth\":0,\"ticks\":\"\"},\"colorscale\":[[0.0,\"#0d0887\"],[0.1111111111111111,\"#46039f\"],[0.2222222222222222,\"#7201a8\"],[0.3333333333333333,\"#9c179e\"],[0.4444444444444444,\"#bd3786\"],[0.5555555555555556,\"#d8576b\"],[0.6666666666666666,\"#ed7953\"],[0.7777777777777778,\"#fb9f3a\"],[0.8888888888888888,\"#fdca26\"],[1.0,\"#f0f921\"]],\"type\":\"contour\"}],\"contourcarpet\":[{\"colorbar\":{\"outlinewidth\":0,\"ticks\":\"\"},\"type\":\"contourcarpet\"}],\"heatmap\":[{\"colorbar\":{\"outlinewidth\":0,\"ticks\":\"\"},\"colorscale\":[[0.0,\"#0d0887\"],[0.1111111111111111,\"#46039f\"],[0.2222222222222222,\"#7201a8\"],[0.3333333333333333,\"#9c179e\"],[0.4444444444444444,\"#bd3786\"],[0.5555555555555556,\"#d8576b\"],[0.6666666666666666,\"#ed7953\"],[0.7777777777777778,\"#fb9f3a\"],[0.8888888888888888,\"#fdca26\"],[1.0,\"#f0f921\"]],\"type\":\"heatmap\"}],\"heatmapgl\":[{\"colorbar\":{\"outlinewidth\":0,\"ticks\":\"\"},\"colorscale\":[[0.0,\"#0d0887\"],[0.1111111111111111,\"#46039f\"],[0.2222222222222222,\"#7201a8\"],[0.3333333333333333,\"#9c179e\"],[0.4444444444444444,\"#bd3786\"],[0.5555555555555556,\"#d8576b\"],[0.6666666666666666,\"#ed7953\"],[0.7777777777777778,\"#fb9f3a\"],[0.8888888888888888,\"#fdca26\"],[1.0,\"#f0f921\"]],\"type\":\"heatmapgl\"}],\"histogram\":[{\"marker\":{\"pattern\":{\"fillmode\":\"overlay\",\"size\":10,\"solidity\":0.2}},\"type\":\"histogram\"}],\"histogram2d\":[{\"colorbar\":{\"outlinewidth\":0,\"ticks\":\"\"},\"colorscale\":[[0.0,\"#0d0887\"],[0.1111111111111111,\"#46039f\"],[0.2222222222222222,\"#7201a8\"],[0.3333333333333333,\"#9c179e\"],[0.4444444444444444,\"#bd3786\"],[0.5555555555555556,\"#d8576b\"],[0.6666666666666666,\"#ed7953\"],[0.7777777777777778,\"#fb9f3a\"],[0.8888888888888888,\"#fdca26\"],[1.0,\"#f0f921\"]],\"type\":\"histogram2d\"}],\"histogram2dcontour\":[{\"colorbar\":{\"outlinewidth\":0,\"ticks\":\"\"},\"colorscale\":[[0.0,\"#0d0887\"],[0.1111111111111111,\"#46039f\"],[0.2222222222222222,\"#7201a8\"],[0.3333333333333333,\"#9c179e\"],[0.4444444444444444,\"#bd3786\"],[0.5555555555555556,\"#d8576b\"],[0.6666666666666666,\"#ed7953\"],[0.7777777777777778,\"#fb9f3a\"],[0.8888888888888888,\"#fdca26\"],[1.0,\"#f0f921\"]],\"type\":\"histogram2dcontour\"}],\"mesh3d\":[{\"colorbar\":{\"outlinewidth\":0,\"ticks\":\"\"},\"type\":\"mesh3d\"}],\"parcoords\":[{\"line\":{\"colorbar\":{\"outlinewidth\":0,\"ticks\":\"\"}},\"type\":\"parcoords\"}],\"pie\":[{\"automargin\":true,\"type\":\"pie\"}],\"scatter\":[{\"marker\":{\"colorbar\":{\"outlinewidth\":0,\"ticks\":\"\"}},\"type\":\"scatter\"}],\"scatter3d\":[{\"line\":{\"colorbar\":{\"outlinewidth\":0,\"ticks\":\"\"}},\"marker\":{\"colorbar\":{\"outlinewidth\":0,\"ticks\":\"\"}},\"type\":\"scatter3d\"}],\"scattercarpet\":[{\"marker\":{\"colorbar\":{\"outlinewidth\":0,\"ticks\":\"\"}},\"type\":\"scattercarpet\"}],\"scattergeo\":[{\"marker\":{\"colorbar\":{\"outlinewidth\":0,\"ticks\":\"\"}},\"type\":\"scattergeo\"}],\"scattergl\":[{\"marker\":{\"colorbar\":{\"outlinewidth\":0,\"ticks\":\"\"}},\"type\":\"scattergl\"}],\"scattermapbox\":[{\"marker\":{\"colorbar\":{\"outlinewidth\":0,\"ticks\":\"\"}},\"type\":\"scattermapbox\"}],\"scatterpolar\":[{\"marker\":{\"colorbar\":{\"outlinewidth\":0,\"ticks\":\"\"}},\"type\":\"scatterpolar\"}],\"scatterpolargl\":[{\"marker\":{\"colorbar\":{\"outlinewidth\":0,\"ticks\":\"\"}},\"type\":\"scatterpolargl\"}],\"scatterternary\":[{\"marker\":{\"colorbar\":{\"outlinewidth\":0,\"ticks\":\"\"}},\"type\":\"scatterternary\"}],\"surface\":[{\"colorbar\":{\"outlinewidth\":0,\"ticks\":\"\"},\"colorscale\":[[0.0,\"#0d0887\"],[0.1111111111111111,\"#46039f\"],[0.2222222222222222,\"#7201a8\"],[0.3333333333333333,\"#9c179e\"],[0.4444444444444444,\"#bd3786\"],[0.5555555555555556,\"#d8576b\"],[0.6666666666666666,\"#ed7953\"],[0.7777777777777778,\"#fb9f3a\"],[0.8888888888888888,\"#fdca26\"],[1.0,\"#f0f921\"]],\"type\":\"surface\"}],\"table\":[{\"cells\":{\"fill\":{\"color\":\"#EBF0F8\"},\"line\":{\"color\":\"white\"}},\"header\":{\"fill\":{\"color\":\"#C8D4E3\"},\"line\":{\"color\":\"white\"}},\"type\":\"table\"}]},\"layout\":{\"annotationdefaults\":{\"arrowcolor\":\"#2a3f5f\",\"arrowhead\":0,\"arrowwidth\":1},\"autotypenumbers\":\"strict\",\"coloraxis\":{\"colorbar\":{\"outlinewidth\":0,\"ticks\":\"\"}},\"colorscale\":{\"diverging\":[[0,\"#8e0152\"],[0.1,\"#c51b7d\"],[0.2,\"#de77ae\"],[0.3,\"#f1b6da\"],[0.4,\"#fde0ef\"],[0.5,\"#f7f7f7\"],[0.6,\"#e6f5d0\"],[0.7,\"#b8e186\"],[0.8,\"#7fbc41\"],[0.9,\"#4d9221\"],[1,\"#276419\"]],\"sequential\":[[0.0,\"#0d0887\"],[0.1111111111111111,\"#46039f\"],[0.2222222222222222,\"#7201a8\"],[0.3333333333333333,\"#9c179e\"],[0.4444444444444444,\"#bd3786\"],[0.5555555555555556,\"#d8576b\"],[0.6666666666666666,\"#ed7953\"],[0.7777777777777778,\"#fb9f3a\"],[0.8888888888888888,\"#fdca26\"],[1.0,\"#f0f921\"]],\"sequentialminus\":[[0.0,\"#0d0887\"],[0.1111111111111111,\"#46039f\"],[0.2222222222222222,\"#7201a8\"],[0.3333333333333333,\"#9c179e\"],[0.4444444444444444,\"#bd3786\"],[0.5555555555555556,\"#d8576b\"],[0.6666666666666666,\"#ed7953\"],[0.7777777777777778,\"#fb9f3a\"],[0.8888888888888888,\"#fdca26\"],[1.0,\"#f0f921\"]]},\"colorway\":[\"#636efa\",\"#EF553B\",\"#00cc96\",\"#ab63fa\",\"#FFA15A\",\"#19d3f3\",\"#FF6692\",\"#B6E880\",\"#FF97FF\",\"#FECB52\"],\"font\":{\"color\":\"#2a3f5f\"},\"geo\":{\"bgcolor\":\"white\",\"lakecolor\":\"white\",\"landcolor\":\"#E5ECF6\",\"showlakes\":true,\"showland\":true,\"subunitcolor\":\"white\"},\"hoverlabel\":{\"align\":\"left\"},\"hovermode\":\"closest\",\"mapbox\":{\"style\":\"light\"},\"paper_bgcolor\":\"white\",\"plot_bgcolor\":\"#E5ECF6\",\"polar\":{\"angularaxis\":{\"gridcolor\":\"white\",\"linecolor\":\"white\",\"ticks\":\"\"},\"bgcolor\":\"#E5ECF6\",\"radialaxis\":{\"gridcolor\":\"white\",\"linecolor\":\"white\",\"ticks\":\"\"}},\"scene\":{\"xaxis\":{\"backgroundcolor\":\"#E5ECF6\",\"gridcolor\":\"white\",\"gridwidth\":2,\"linecolor\":\"white\",\"showbackground\":true,\"ticks\":\"\",\"zerolinecolor\":\"white\"},\"yaxis\":{\"backgroundcolor\":\"#E5ECF6\",\"gridcolor\":\"white\",\"gridwidth\":2,\"linecolor\":\"white\",\"showbackground\":true,\"ticks\":\"\",\"zerolinecolor\":\"white\"},\"zaxis\":{\"backgroundcolor\":\"#E5ECF6\",\"gridcolor\":\"white\",\"gridwidth\":2,\"linecolor\":\"white\",\"showbackground\":true,\"ticks\":\"\",\"zerolinecolor\":\"white\"}},\"shapedefaults\":{\"line\":{\"color\":\"#2a3f5f\"}},\"ternary\":{\"aaxis\":{\"gridcolor\":\"white\",\"linecolor\":\"white\",\"ticks\":\"\"},\"baxis\":{\"gridcolor\":\"white\",\"linecolor\":\"white\",\"ticks\":\"\"},\"bgcolor\":\"#E5ECF6\",\"caxis\":{\"gridcolor\":\"white\",\"linecolor\":\"white\",\"ticks\":\"\"}},\"title\":{\"x\":0.05},\"xaxis\":{\"automargin\":true,\"gridcolor\":\"white\",\"linecolor\":\"white\",\"ticks\":\"\",\"title\":{\"standoff\":15},\"zerolinecolor\":\"white\",\"zerolinewidth\":2},\"yaxis\":{\"automargin\":true,\"gridcolor\":\"white\",\"linecolor\":\"white\",\"ticks\":\"\",\"title\":{\"standoff\":15},\"zerolinecolor\":\"white\",\"zerolinewidth\":2}}}},                        {\"responsive\": true}                    ).then(function(){\n",
       "                            \n",
       "var gd = document.getElementById('0f73982f-7235-4821-b1fb-4c1054f9d592');\n",
       "var x = new MutationObserver(function (mutations, observer) {{\n",
       "        var display = window.getComputedStyle(gd).display;\n",
       "        if (!display || display === 'none') {{\n",
       "            console.log([gd, 'removed!']);\n",
       "            Plotly.purge(gd);\n",
       "            observer.disconnect();\n",
       "        }}\n",
       "}});\n",
       "\n",
       "// Listen for the removal of the full notebook cells\n",
       "var notebookContainer = gd.closest('#notebook-container');\n",
       "if (notebookContainer) {{\n",
       "    x.observe(notebookContainer, {childList: true});\n",
       "}}\n",
       "\n",
       "// Listen for the clearing of the current output cell\n",
       "var outputEl = gd.closest('.output');\n",
       "if (outputEl) {{\n",
       "    x.observe(outputEl, {childList: true});\n",
       "}}\n",
       "\n",
       "                        })                };                });            </script>        </div>"
      ]
     },
     "metadata": {},
     "output_type": "display_data"
    }
   ],
   "source": [
    "fig = px.scatter_3d(df, \n",
    "                    x='SepalLengthCm',\n",
    "                    y='SepalWidthCm',\n",
    "                    z='PetalWidthCm',\n",
    "                    color='Species')\n",
    "fig.show();"
   ]
  },
  {
   "cell_type": "markdown",
   "id": "91a99294",
   "metadata": {
    "papermill": {
     "duration": 0.055744,
     "end_time": "2021-10-08T22:26:51.672849",
     "exception": false,
     "start_time": "2021-10-08T22:26:51.617105",
     "status": "completed"
    },
    "tags": []
   },
   "source": [
    "# MODEL SELECTİON"
   ]
  },
  {
   "cell_type": "markdown",
   "id": "b1a741ca",
   "metadata": {
    "papermill": {
     "duration": 0.0435,
     "end_time": "2021-10-08T22:26:51.763683",
     "exception": false,
     "start_time": "2021-10-08T22:26:51.720183",
     "status": "completed"
    },
    "tags": []
   },
   "source": [
    "### TRAIN | TEST "
   ]
  },
  {
   "cell_type": "code",
   "execution_count": 15,
   "id": "9ef940c9",
   "metadata": {
    "execution": {
     "iopub.execute_input": "2021-10-08T22:26:51.852025Z",
     "iopub.status.busy": "2021-10-08T22:26:51.851194Z",
     "iopub.status.idle": "2021-10-08T22:26:52.034260Z",
     "shell.execute_reply": "2021-10-08T22:26:52.034818Z",
     "shell.execute_reply.started": "2021-10-08T22:22:17.874481Z"
    },
    "papermill": {
     "duration": 0.2302,
     "end_time": "2021-10-08T22:26:52.035054",
     "exception": false,
     "start_time": "2021-10-08T22:26:51.804854",
     "status": "completed"
    },
    "tags": []
   },
   "outputs": [],
   "source": [
    "from sklearn.model_selection import train_test_split"
   ]
  },
  {
   "cell_type": "code",
   "execution_count": 16,
   "id": "8d003d6a",
   "metadata": {
    "execution": {
     "iopub.execute_input": "2021-10-08T22:26:52.125733Z",
     "iopub.status.busy": "2021-10-08T22:26:52.120468Z",
     "iopub.status.idle": "2021-10-08T22:26:52.130759Z",
     "shell.execute_reply": "2021-10-08T22:26:52.130128Z",
     "shell.execute_reply.started": "2021-10-08T22:22:17.933637Z"
    },
    "papermill": {
     "duration": 0.05469,
     "end_time": "2021-10-08T22:26:52.130945",
     "exception": false,
     "start_time": "2021-10-08T22:26:52.076255",
     "status": "completed"
    },
    "tags": []
   },
   "outputs": [],
   "source": [
    "X = df.drop(columns=\"Species\")\n",
    "y = df[\"Species\"]\n",
    "X_train, X_test, y_train, y_test = train_test_split(X, y, test_size=0.3, random_state=44)"
   ]
  },
  {
   "cell_type": "markdown",
   "id": "5cf4cb02",
   "metadata": {
    "papermill": {
     "duration": 0.04091,
     "end_time": "2021-10-08T22:26:52.213337",
     "exception": false,
     "start_time": "2021-10-08T22:26:52.172427",
     "status": "completed"
    },
    "tags": []
   },
   "source": [
    "## Random Forest - Modelling and Model Performance\n"
   ]
  },
  {
   "cell_type": "code",
   "execution_count": 17,
   "id": "ce862a15",
   "metadata": {
    "execution": {
     "iopub.execute_input": "2021-10-08T22:26:52.299541Z",
     "iopub.status.busy": "2021-10-08T22:26:52.298770Z",
     "iopub.status.idle": "2021-10-08T22:26:52.492998Z",
     "shell.execute_reply": "2021-10-08T22:26:52.492350Z",
     "shell.execute_reply.started": "2021-10-08T22:22:17.944739Z"
    },
    "papermill": {
     "duration": 0.239537,
     "end_time": "2021-10-08T22:26:52.493172",
     "exception": false,
     "start_time": "2021-10-08T22:26:52.253635",
     "status": "completed"
    },
    "tags": []
   },
   "outputs": [],
   "source": [
    "from sklearn.ensemble import RandomForestClassifier\n",
    "from sklearn.metrics import accuracy_score,precision_score,recall_score,f1_score,confusion_matrix, classification_report\n",
    "from sklearn.model_selection import cross_val_score,cross_validate\n",
    "from sklearn.metrics import plot_confusion_matrix"
   ]
  },
  {
   "cell_type": "code",
   "execution_count": 18,
   "id": "73175a65",
   "metadata": {
    "execution": {
     "iopub.execute_input": "2021-10-08T22:26:52.599952Z",
     "iopub.status.busy": "2021-10-08T22:26:52.589221Z",
     "iopub.status.idle": "2021-10-08T22:26:52.796849Z",
     "shell.execute_reply": "2021-10-08T22:26:52.796138Z",
     "shell.execute_reply.started": "2021-10-08T22:22:18.014296Z"
    },
    "papermill": {
     "duration": 0.263279,
     "end_time": "2021-10-08T22:26:52.797024",
     "exception": false,
     "start_time": "2021-10-08T22:26:52.533745",
     "status": "completed"
    },
    "tags": []
   },
   "outputs": [],
   "source": [
    "rf_model = RandomForestClassifier(random_state=44)\n",
    "rf_model.fit(X_train,y_train)\n",
    "y_pred = rf_model.predict(X_test)\n",
    "y_train_pred = rf_model.predict(X_train)"
   ]
  },
  {
   "cell_type": "code",
   "execution_count": 19,
   "id": "8e67a8da",
   "metadata": {
    "execution": {
     "iopub.execute_input": "2021-10-08T22:26:52.889669Z",
     "iopub.status.busy": "2021-10-08T22:26:52.888542Z",
     "iopub.status.idle": "2021-10-08T22:26:52.891648Z",
     "shell.execute_reply": "2021-10-08T22:26:52.891103Z",
     "shell.execute_reply.started": "2021-10-08T22:22:18.236461Z"
    },
    "papermill": {
     "duration": 0.052877,
     "end_time": "2021-10-08T22:26:52.891802",
     "exception": false,
     "start_time": "2021-10-08T22:26:52.838925",
     "status": "completed"
    },
    "tags": []
   },
   "outputs": [],
   "source": [
    "def train_val(y_train, y_train_pred, y_test, y_pred):\n",
    "\n",
    "    scores = {\"train set\": {\"Accuracy\" : accuracy_score(y_train, y_train_pred),\n",
    "                            \"Precision\" : precision_score(y_train, y_train_pred,average=\"macro\"),\n",
    "                            \"Recall\" : recall_score(y_train, y_train_pred,average=\"macro\"),                          \n",
    "                            \"f1\" : f1_score(y_train, y_train_pred,average=\"macro\")},\n",
    "    \n",
    "              \"test set\": {\"Accuracy\" : accuracy_score(y_test,y_pred),\n",
    "                           \"Precision\" : precision_score(y_test, y_pred,average=\"macro\"),\n",
    "                           \"Recall\" : recall_score(y_test, y_pred,average=\"macro\"),                          \n",
    "                           \"f1\" : f1_score(y_test, y_pred,average=\"macro\")}}\n",
    "    \n",
    "    return pd.DataFrame(scores)\n"
   ]
  },
  {
   "cell_type": "code",
   "execution_count": 20,
   "id": "492edd0a",
   "metadata": {
    "execution": {
     "iopub.execute_input": "2021-10-08T22:26:52.980151Z",
     "iopub.status.busy": "2021-10-08T22:26:52.979453Z",
     "iopub.status.idle": "2021-10-08T22:26:52.994810Z",
     "shell.execute_reply": "2021-10-08T22:26:52.995391Z",
     "shell.execute_reply.started": "2021-10-08T22:22:18.247696Z"
    },
    "papermill": {
     "duration": 0.063555,
     "end_time": "2021-10-08T22:26:52.995589",
     "exception": false,
     "start_time": "2021-10-08T22:26:52.932034",
     "status": "completed"
    },
    "tags": []
   },
   "outputs": [
    {
     "data": {
      "text/html": [
       "<div>\n",
       "<style scoped>\n",
       "    .dataframe tbody tr th:only-of-type {\n",
       "        vertical-align: middle;\n",
       "    }\n",
       "\n",
       "    .dataframe tbody tr th {\n",
       "        vertical-align: top;\n",
       "    }\n",
       "\n",
       "    .dataframe thead th {\n",
       "        text-align: right;\n",
       "    }\n",
       "</style>\n",
       "<table border=\"1\" class=\"dataframe\">\n",
       "  <thead>\n",
       "    <tr style=\"text-align: right;\">\n",
       "      <th></th>\n",
       "      <th>train set</th>\n",
       "      <th>test set</th>\n",
       "    </tr>\n",
       "  </thead>\n",
       "  <tbody>\n",
       "    <tr>\n",
       "      <th>Accuracy</th>\n",
       "      <td>1.0</td>\n",
       "      <td>0.977778</td>\n",
       "    </tr>\n",
       "    <tr>\n",
       "      <th>Precision</th>\n",
       "      <td>1.0</td>\n",
       "      <td>0.979167</td>\n",
       "    </tr>\n",
       "    <tr>\n",
       "      <th>Recall</th>\n",
       "      <td>1.0</td>\n",
       "      <td>0.976190</td>\n",
       "    </tr>\n",
       "    <tr>\n",
       "      <th>f1</th>\n",
       "      <td>1.0</td>\n",
       "      <td>0.976902</td>\n",
       "    </tr>\n",
       "  </tbody>\n",
       "</table>\n",
       "</div>"
      ],
      "text/plain": [
       "           train set  test set\n",
       "Accuracy         1.0  0.977778\n",
       "Precision        1.0  0.979167\n",
       "Recall           1.0  0.976190\n",
       "f1               1.0  0.976902"
      ]
     },
     "execution_count": 20,
     "metadata": {},
     "output_type": "execute_result"
    }
   ],
   "source": [
    "train_val(y_train, y_train_pred, y_test, y_pred)"
   ]
  },
  {
   "cell_type": "markdown",
   "id": "29e964bc",
   "metadata": {
    "papermill": {
     "duration": 0.040634,
     "end_time": "2021-10-08T22:26:53.078004",
     "exception": false,
     "start_time": "2021-10-08T22:26:53.037370",
     "status": "completed"
    },
    "tags": []
   },
   "source": [
    "**Overfitting !**  ☝☝"
   ]
  },
  {
   "cell_type": "code",
   "execution_count": 21,
   "id": "d1cc6af7",
   "metadata": {
    "execution": {
     "iopub.execute_input": "2021-10-08T22:26:53.164874Z",
     "iopub.status.busy": "2021-10-08T22:26:53.164232Z",
     "iopub.status.idle": "2021-10-08T22:26:53.168981Z",
     "shell.execute_reply": "2021-10-08T22:26:53.168342Z",
     "shell.execute_reply.started": "2021-10-08T22:22:18.289330Z"
    },
    "papermill": {
     "duration": 0.05068,
     "end_time": "2021-10-08T22:26:53.169160",
     "exception": false,
     "start_time": "2021-10-08T22:26:53.118480",
     "status": "completed"
    },
    "tags": []
   },
   "outputs": [],
   "source": [
    "from sklearn.model_selection import GridSearchCV"
   ]
  },
  {
   "cell_type": "code",
   "execution_count": 22,
   "id": "0e6bcd3c",
   "metadata": {
    "execution": {
     "iopub.execute_input": "2021-10-08T22:26:53.258445Z",
     "iopub.status.busy": "2021-10-08T22:26:53.257679Z",
     "iopub.status.idle": "2021-10-08T22:26:53.260817Z",
     "shell.execute_reply": "2021-10-08T22:26:53.260272Z",
     "shell.execute_reply.started": "2021-10-08T22:22:18.301077Z"
    },
    "papermill": {
     "duration": 0.050931,
     "end_time": "2021-10-08T22:26:53.260999",
     "exception": false,
     "start_time": "2021-10-08T22:26:53.210068",
     "status": "completed"
    },
    "tags": []
   },
   "outputs": [],
   "source": [
    "params = {\"n_estimators\": [10,20,50],\n",
    "          \"max_depth\" :[None,2,4,8,10],\n",
    "          \"min_samples_split\" :[2,3,6,9],\n",
    "          \"max_features\" : ['auto',2,3,4],\n",
    "          \"random_state\" : [44]}"
   ]
  },
  {
   "cell_type": "code",
   "execution_count": 23,
   "id": "e3e80ef9",
   "metadata": {
    "execution": {
     "iopub.execute_input": "2021-10-08T22:26:53.350954Z",
     "iopub.status.busy": "2021-10-08T22:26:53.350005Z",
     "iopub.status.idle": "2021-10-08T22:27:51.492401Z",
     "shell.execute_reply": "2021-10-08T22:27:51.491800Z",
     "shell.execute_reply.started": "2021-10-08T22:22:18.310715Z"
    },
    "papermill": {
     "duration": 58.190714,
     "end_time": "2021-10-08T22:27:51.492569",
     "exception": false,
     "start_time": "2021-10-08T22:26:53.301855",
     "status": "completed"
    },
    "tags": []
   },
   "outputs": [],
   "source": [
    "rf_grid_model = GridSearchCV(rf_model, params, scoring = \"accuracy\", n_jobs = -1, cv=10).fit(X_train, y_train)"
   ]
  },
  {
   "cell_type": "code",
   "execution_count": 24,
   "id": "04d89b39",
   "metadata": {
    "execution": {
     "iopub.execute_input": "2021-10-08T22:27:51.581035Z",
     "iopub.status.busy": "2021-10-08T22:27:51.580055Z",
     "iopub.status.idle": "2021-10-08T22:27:51.584562Z",
     "shell.execute_reply": "2021-10-08T22:27:51.583943Z",
     "shell.execute_reply.started": "2021-10-08T22:23:17.033919Z"
    },
    "papermill": {
     "duration": 0.051629,
     "end_time": "2021-10-08T22:27:51.584709",
     "exception": false,
     "start_time": "2021-10-08T22:27:51.533080",
     "status": "completed"
    },
    "tags": []
   },
   "outputs": [
    {
     "data": {
      "text/plain": [
       "{'max_depth': None,\n",
       " 'max_features': 'auto',\n",
       " 'min_samples_split': 6,\n",
       " 'n_estimators': 20,\n",
       " 'random_state': 44}"
      ]
     },
     "execution_count": 24,
     "metadata": {},
     "output_type": "execute_result"
    }
   ],
   "source": [
    "rf_grid_model.best_params_"
   ]
  },
  {
   "cell_type": "code",
   "execution_count": 25,
   "id": "4bcfb54f",
   "metadata": {
    "execution": {
     "iopub.execute_input": "2021-10-08T22:27:51.675414Z",
     "iopub.status.busy": "2021-10-08T22:27:51.669504Z",
     "iopub.status.idle": "2021-10-08T22:27:52.021056Z",
     "shell.execute_reply": "2021-10-08T22:27:52.021618Z",
     "shell.execute_reply.started": "2021-10-08T22:23:17.043494Z"
    },
    "papermill": {
     "duration": 0.3968,
     "end_time": "2021-10-08T22:27:52.021846",
     "exception": false,
     "start_time": "2021-10-08T22:27:51.625046",
     "status": "completed"
    },
    "tags": []
   },
   "outputs": [
    {
     "name": "stdout",
     "output_type": "stream",
     "text": [
      "                 precision    recall  f1-score   support\n",
      "\n",
      "    Iris-setosa       1.00      1.00      1.00        16\n",
      "Iris-versicolor       1.00      0.93      0.96        14\n",
      " Iris-virginica       0.94      1.00      0.97        15\n",
      "\n",
      "       accuracy                           0.98        45\n",
      "      macro avg       0.98      0.98      0.98        45\n",
      "   weighted avg       0.98      0.98      0.98        45\n",
      "\n"
     ]
    },
    {
     "data": {
      "image/png": "[encoded data removed]",
      "text/plain": [
       "<Figure size 720x432 with 2 Axes>"
      ]
     },
     "metadata": {
      "needs_background": "light"
     },
     "output_type": "display_data"
    }
   ],
   "source": [
    "y_pred = rf_grid_model.predict(X_test)\n",
    "y_pred_train = rf_grid_model.predict(X_train)\n",
    "\n",
    "\n",
    "print(classification_report(y_test, y_pred))\n",
    "plot_confusion_matrix(rf_grid_model,X_test,y_test);"
   ]
  },
  {
   "cell_type": "code",
   "execution_count": 26,
   "id": "7397f99a",
   "metadata": {
    "execution": {
     "iopub.execute_input": "2021-10-08T22:27:52.113681Z",
     "iopub.status.busy": "2021-10-08T22:27:52.112637Z",
     "iopub.status.idle": "2021-10-08T22:27:52.132308Z",
     "shell.execute_reply": "2021-10-08T22:27:52.132817Z",
     "shell.execute_reply.started": "2021-10-08T22:23:17.383023Z"
    },
    "papermill": {
     "duration": 0.06841,
     "end_time": "2021-10-08T22:27:52.133035",
     "exception": false,
     "start_time": "2021-10-08T22:27:52.064625",
     "status": "completed"
    },
    "tags": []
   },
   "outputs": [
    {
     "data": {
      "text/html": [
       "<div>\n",
       "<style scoped>\n",
       "    .dataframe tbody tr th:only-of-type {\n",
       "        vertical-align: middle;\n",
       "    }\n",
       "\n",
       "    .dataframe tbody tr th {\n",
       "        vertical-align: top;\n",
       "    }\n",
       "\n",
       "    .dataframe thead th {\n",
       "        text-align: right;\n",
       "    }\n",
       "</style>\n",
       "<table border=\"1\" class=\"dataframe\">\n",
       "  <thead>\n",
       "    <tr style=\"text-align: right;\">\n",
       "      <th></th>\n",
       "      <th>train set</th>\n",
       "      <th>test set</th>\n",
       "    </tr>\n",
       "  </thead>\n",
       "  <tbody>\n",
       "    <tr>\n",
       "      <th>Accuracy</th>\n",
       "      <td>0.980392</td>\n",
       "      <td>0.977778</td>\n",
       "    </tr>\n",
       "    <tr>\n",
       "      <th>Precision</th>\n",
       "      <td>0.981481</td>\n",
       "      <td>0.979167</td>\n",
       "    </tr>\n",
       "    <tr>\n",
       "      <th>Recall</th>\n",
       "      <td>0.981481</td>\n",
       "      <td>0.976190</td>\n",
       "    </tr>\n",
       "    <tr>\n",
       "      <th>f1</th>\n",
       "      <td>0.980952</td>\n",
       "      <td>0.976902</td>\n",
       "    </tr>\n",
       "  </tbody>\n",
       "</table>\n",
       "</div>"
      ],
      "text/plain": [
       "           train set  test set\n",
       "Accuracy    0.980392  0.977778\n",
       "Precision   0.981481  0.979167\n",
       "Recall      0.981481  0.976190\n",
       "f1          0.980952  0.976902"
      ]
     },
     "execution_count": 26,
     "metadata": {},
     "output_type": "execute_result"
    }
   ],
   "source": [
    "train_val(y_train, y_pred_train, y_test, y_pred)"
   ]
  },
  {
   "cell_type": "markdown",
   "id": "b1df420b",
   "metadata": {
    "execution": {
     "iopub.execute_input": "2021-10-08T22:23:30.154188Z",
     "iopub.status.busy": "2021-10-08T22:23:30.152744Z",
     "iopub.status.idle": "2021-10-08T22:23:30.158491Z",
     "shell.execute_reply": "2021-10-08T22:23:30.157590Z",
     "shell.execute_reply.started": "2021-10-08T22:23:30.154117Z"
    },
    "papermill": {
     "duration": 0.044573,
     "end_time": "2021-10-08T22:27:52.221802",
     "exception": false,
     "start_time": "2021-10-08T22:27:52.177229",
     "status": "completed"
    },
    "tags": []
   },
   "source": [
    "## SVM - Modelling and Model Performance"
   ]
  },
  {
   "cell_type": "code",
   "execution_count": 27,
   "id": "5af02c75",
   "metadata": {
    "execution": {
     "iopub.execute_input": "2021-10-08T22:27:52.313954Z",
     "iopub.status.busy": "2021-10-08T22:27:52.312918Z",
     "iopub.status.idle": "2021-10-08T22:27:52.317593Z",
     "shell.execute_reply": "2021-10-08T22:27:52.318235Z",
     "shell.execute_reply.started": "2021-10-08T22:23:41.372479Z"
    },
    "papermill": {
     "duration": 0.052586,
     "end_time": "2021-10-08T22:27:52.318443",
     "exception": false,
     "start_time": "2021-10-08T22:27:52.265857",
     "status": "completed"
    },
    "tags": []
   },
   "outputs": [],
   "source": [
    "from sklearn.svm import SVC\n",
    "from sklearn.preprocessing import StandardScaler"
   ]
  },
  {
   "cell_type": "code",
   "execution_count": 28,
   "id": "7d0b5805",
   "metadata": {
    "execution": {
     "iopub.execute_input": "2021-10-08T22:27:52.412365Z",
     "iopub.status.busy": "2021-10-08T22:27:52.411299Z",
     "iopub.status.idle": "2021-10-08T22:27:52.421191Z",
     "shell.execute_reply": "2021-10-08T22:27:52.421775Z",
     "shell.execute_reply.started": "2021-10-08T22:23:46.620901Z"
    },
    "papermill": {
     "duration": 0.059738,
     "end_time": "2021-10-08T22:27:52.422041",
     "exception": false,
     "start_time": "2021-10-08T22:27:52.362303",
     "status": "completed"
    },
    "tags": []
   },
   "outputs": [],
   "source": [
    "scaler = StandardScaler()\n",
    "X_train_scaled = scaler.fit_transform(X_train)\n",
    "X_test_scaled = scaler.transform(X_test)"
   ]
  },
  {
   "cell_type": "code",
   "execution_count": 29,
   "id": "79f60baf",
   "metadata": {
    "execution": {
     "iopub.execute_input": "2021-10-08T22:27:52.516979Z",
     "iopub.status.busy": "2021-10-08T22:27:52.515947Z",
     "iopub.status.idle": "2021-10-08T22:27:52.523949Z",
     "shell.execute_reply": "2021-10-08T22:27:52.524493Z",
     "shell.execute_reply.started": "2021-10-08T22:23:47.706410Z"
    },
    "papermill": {
     "duration": 0.058462,
     "end_time": "2021-10-08T22:27:52.524699",
     "exception": false,
     "start_time": "2021-10-08T22:27:52.466237",
     "status": "completed"
    },
    "tags": []
   },
   "outputs": [],
   "source": [
    "svm_model = SVC(random_state=44)\n",
    "svm_model.fit(X_train_scaled,y_train)\n",
    "y_pred = svm_model.predict(X_test_scaled)\n",
    "y_pred_train = svm_model.predict(X_train_scaled)"
   ]
  },
  {
   "cell_type": "code",
   "execution_count": 30,
   "id": "1f9668cc",
   "metadata": {
    "execution": {
     "iopub.execute_input": "2021-10-08T22:27:52.622230Z",
     "iopub.status.busy": "2021-10-08T22:27:52.620083Z",
     "iopub.status.idle": "2021-10-08T22:27:52.647117Z",
     "shell.execute_reply": "2021-10-08T22:27:52.646432Z",
     "shell.execute_reply.started": "2021-10-08T22:23:50.351358Z"
    },
    "papermill": {
     "duration": 0.078493,
     "end_time": "2021-10-08T22:27:52.647274",
     "exception": false,
     "start_time": "2021-10-08T22:27:52.568781",
     "status": "completed"
    },
    "tags": []
   },
   "outputs": [
    {
     "name": "stdout",
     "output_type": "stream",
     "text": [
      "[[16  0  0]\n",
      " [ 0 14  0]\n",
      " [ 0  0 15]]\n",
      "                 precision    recall  f1-score   support\n",
      "\n",
      "    Iris-setosa       1.00      1.00      1.00        16\n",
      "Iris-versicolor       1.00      1.00      1.00        14\n",
      " Iris-virginica       1.00      1.00      1.00        15\n",
      "\n",
      "       accuracy                           1.00        45\n",
      "      macro avg       1.00      1.00      1.00        45\n",
      "   weighted avg       1.00      1.00      1.00        45\n",
      "\n"
     ]
    },
    {
     "data": {
      "text/html": [
       "<div>\n",
       "<style scoped>\n",
       "    .dataframe tbody tr th:only-of-type {\n",
       "        vertical-align: middle;\n",
       "    }\n",
       "\n",
       "    .dataframe tbody tr th {\n",
       "        vertical-align: top;\n",
       "    }\n",
       "\n",
       "    .dataframe thead th {\n",
       "        text-align: right;\n",
       "    }\n",
       "</style>\n",
       "<table border=\"1\" class=\"dataframe\">\n",
       "  <thead>\n",
       "    <tr style=\"text-align: right;\">\n",
       "      <th></th>\n",
       "      <th>train set</th>\n",
       "      <th>test set</th>\n",
       "    </tr>\n",
       "  </thead>\n",
       "  <tbody>\n",
       "    <tr>\n",
       "      <th>Accuracy</th>\n",
       "      <td>0.970588</td>\n",
       "      <td>1.0</td>\n",
       "    </tr>\n",
       "    <tr>\n",
       "      <th>Precision</th>\n",
       "      <td>0.971429</td>\n",
       "      <td>1.0</td>\n",
       "    </tr>\n",
       "    <tr>\n",
       "      <th>Recall</th>\n",
       "      <td>0.971678</td>\n",
       "      <td>1.0</td>\n",
       "    </tr>\n",
       "    <tr>\n",
       "      <th>f1</th>\n",
       "      <td>0.971423</td>\n",
       "      <td>1.0</td>\n",
       "    </tr>\n",
       "  </tbody>\n",
       "</table>\n",
       "</div>"
      ],
      "text/plain": [
       "           train set  test set\n",
       "Accuracy    0.970588       1.0\n",
       "Precision   0.971429       1.0\n",
       "Recall      0.971678       1.0\n",
       "f1          0.971423       1.0"
      ]
     },
     "execution_count": 30,
     "metadata": {},
     "output_type": "execute_result"
    }
   ],
   "source": [
    "print(confusion_matrix(y_test, y_pred))\n",
    "print(classification_report(y_test, y_pred))\n",
    "train_val(y_train, y_pred_train, y_test, y_pred)"
   ]
  },
  {
   "cell_type": "markdown",
   "id": "61e5d383",
   "metadata": {
    "papermill": {
     "duration": 0.044211,
     "end_time": "2021-10-08T22:27:52.736361",
     "exception": false,
     "start_time": "2021-10-08T22:27:52.692150",
     "status": "completed"
    },
    "tags": []
   },
   "source": [
    " ## Sonuç:\n",
    "\n",
    "**- Random Forest eğitim sürecinde feature seçimini rastgele yapar ve herhangi bir feature 'a  büyük ölçüde bağlı değildir. Bu nedenle, Random Forest, verileri daha iyi genelleyebilir.**\n",
    "\n",
    "**- Random Forest, datasetimizin orta veya büyük ölçekli olduğu durumlar için daha uygundur. Ancak birden fazla Decision Tree'yi birleştirdiğinden, yorumlanması daha zor hale gelir. Burada datasetimiz küçük ölçekli olduğu için SVM modelimiz daha iyi bir sonuç çıkarmıştır.**"
   ]
  }
 ],
 "metadata": {
  "kernelspec": {
   "display_name": "Python 3",
   "language": "python",
   "name": "python3"
  },
  "language_info": {
   "codemirror_mode": {
    "name": "ipython",
    "version": 3
   },
   "file_extension": ".py",
   "mimetype": "text/x-python",
   "name": "python",
   "nbconvert_exporter": "python",
   "pygments_lexer": "ipython3",
   "version": "3.7.10"
  },
  "papermill": {
   "default_parameters": {},
   "duration": 82.981559,
   "end_time": "2021-10-08T22:27:54.768152",
   "environment_variables": {},
   "exception": null,
   "input_path": "__notebook__.ipynb",
   "output_path": "__notebook__.ipynb",
   "parameters": {},
   "start_time": "2021-10-08T22:26:31.786593",
   "version": "2.3.3"
  }
 },
 "nbformat": 4,
 "nbformat_minor": 5
}
